{
 "cells": [
  {
   "cell_type": "code",
   "execution_count": 1,
   "metadata": {},
   "outputs": [],
   "source": [
    "%config InlineBackend.figure_format = \"svg\"\n",
    "\n",
    "from src.networks.nodes import DiscreteNode\n",
    "# from src.trees.nodes import TreeBeliefNode, TreeObservationNode, Tree\n",
    "from src.networks.dn import DecisionNetwork as DN"
   ]
  },
  {
   "cell_type": "markdown",
   "metadata": {},
   "source": [
    "# Decision Networks"
   ]
  },
  {
   "cell_type": "markdown",
   "metadata": {},
   "source": [
    "## Creating the decision network structure"
   ]
  },
  {
   "cell_type": "code",
   "execution_count": 2,
   "metadata": {},
   "outputs": [
    {
     "data": {
      "image/svg+xml": "<?xml version=\"1.0\" encoding=\"utf-8\" standalone=\"no\"?>\n<!DOCTYPE svg PUBLIC \"-//W3C//DTD SVG 1.1//EN\"\n  \"http://www.w3.org/Graphics/SVG/1.1/DTD/svg11.dtd\">\n<svg xmlns:xlink=\"http://www.w3.org/1999/xlink\" width=\"349.2pt\" height=\"231.84pt\" viewBox=\"0 0 349.2 231.84\" xmlns=\"http://www.w3.org/2000/svg\" version=\"1.1\">\n <metadata>\n  <rdf:RDF xmlns:dc=\"http://purl.org/dc/elements/1.1/\" xmlns:cc=\"http://creativecommons.org/ns#\" xmlns:rdf=\"http://www.w3.org/1999/02/22-rdf-syntax-ns#\">\n   <cc:Work>\n    <dc:type rdf:resource=\"http://purl.org/dc/dcmitype/StillImage\"/>\n    <dc:date>2022-07-01T20:25:09.105556</dc:date>\n    <dc:format>image/svg+xml</dc:format>\n    <dc:creator>\n     <cc:Agent>\n      <dc:title>Matplotlib v3.5.2, https://matplotlib.org/</dc:title>\n     </cc:Agent>\n    </dc:creator>\n   </cc:Work>\n  </rdf:RDF>\n </metadata>\n <defs>\n  <style type=\"text/css\">*{stroke-linejoin: round; stroke-linecap: butt}</style>\n </defs>\n <g id=\"figure_1\">\n  <g id=\"patch_1\">\n   <path d=\"M 0 231.84 \nL 349.2 231.84 \nL 349.2 0 \nL 0 0 \nL 0 231.84 \nz\n\" style=\"fill: none\"/>\n  </g>\n  <g id=\"axes_1\">\n   <g id=\"patch_2\">\n    <path d=\"M 7.2 224.64 \nL 342 224.64 \nL 342 7.2 \nL 7.2 7.2 \nz\n\" style=\"fill: #ffffff\"/>\n   </g>\n   <g id=\"patch_3\">\n    <path d=\"M 52.840214 47.85977 \nQ 104.648272 115.92078 154.424788 181.312924 \n\" clip-path=\"url(#p33c4667af8)\" style=\"fill: none; stroke: #000000; stroke-width: 3; stroke-linecap: round\"/>\n    <path d=\"M 153.427168 176.039903 \nL 154.424788 181.312924 \nL 149.607799 178.947207 \nL 153.427168 176.039903 \nz\n\" clip-path=\"url(#p33c4667af8)\" style=\"stroke: #000000; stroke-width: 3; stroke-linecap: round\"/>\n   </g>\n   <g id=\"patch_4\">\n    <path d=\"M 296.122942 47.678795 \nQ 242.993591 115.921535 191.924707 181.517679 \n\" clip-path=\"url(#p33c4667af8)\" style=\"fill: none; stroke: #000000; stroke-width: 3; stroke-linecap: round\"/>\n    <path d=\"M 196.767158 179.204529 \nL 191.924707 181.517679 \nL 192.979658 176.255827 \nL 196.767158 179.204529 \nz\n\" clip-path=\"url(#p33c4667af8)\" style=\"stroke: #000000; stroke-width: 3; stroke-linecap: round\"/>\n   </g>\n   <g id=\"matplotlib.axis_1\">\n    <g id=\"xtick_1\"/>\n    <g id=\"xtick_2\"/>\n    <g id=\"xtick_3\"/>\n    <g id=\"xtick_4\"/>\n    <g id=\"xtick_5\"/>\n    <g id=\"xtick_6\"/>\n   </g>\n   <g id=\"matplotlib.axis_2\">\n    <g id=\"ytick_1\"/>\n    <g id=\"ytick_2\"/>\n    <g id=\"ytick_3\"/>\n    <g id=\"ytick_4\"/>\n    <g id=\"ytick_5\"/>\n    <g id=\"ytick_6\"/>\n    <g id=\"ytick_7\"/>\n    <g id=\"ytick_8\"/>\n   </g>\n   <g id=\"PathCollection_1\">\n    <defs>\n     <path id=\"m88b741ee0b\" d=\"M 0 27.386128 \nC 7.262886 27.386128 14.229281 24.500553 19.364917 19.364917 \nC 24.500553 14.229281 27.386128 7.262886 27.386128 0 \nC 27.386128 -7.262886 24.500553 -14.229281 19.364917 -19.364917 \nC 14.229281 -24.500553 7.262886 -27.386128 0 -27.386128 \nC -7.262886 -27.386128 -14.229281 -24.500553 -19.364917 -19.364917 \nC -24.500553 -14.229281 -27.386128 -7.262886 -27.386128 0 \nC -27.386128 7.262886 -24.500553 14.229281 -19.364917 19.364917 \nC -14.229281 24.500553 -7.262886 27.386128 0 27.386128 \nz\n\" style=\"stroke: #ffa500\"/>\n    </defs>\n    <g clip-path=\"url(#p33c4667af8)\">\n     <use xlink:href=\"#m88b741ee0b\" x=\"36.252893\" y=\"26.06876\" style=\"fill: #ffa500; stroke: #ffa500\"/>\n     <use xlink:href=\"#m88b741ee0b\" x=\"173.042464\" y=\"205.77124\" style=\"fill: #ffa500; stroke: #ffa500\"/>\n     <use xlink:href=\"#m88b741ee0b\" x=\"312.947107\" y=\"26.06876\" style=\"fill: #ffa500; stroke: #ffa500\"/>\n    </g>\n   </g>\n   <g id=\"patch_5\">\n    <path d=\"M 7.2 224.64 \nL 7.2 7.2 \n\" style=\"fill: none; stroke: #000000; stroke-width: 0.8; stroke-linejoin: miter; stroke-linecap: square\"/>\n   </g>\n   <g id=\"patch_6\">\n    <path d=\"M 342 224.64 \nL 342 7.2 \n\" style=\"fill: none; stroke: #000000; stroke-width: 0.8; stroke-linejoin: miter; stroke-linecap: square\"/>\n   </g>\n   <g id=\"patch_7\">\n    <path d=\"M 7.2 224.64 \nL 342 224.64 \n\" style=\"fill: none; stroke: #000000; stroke-width: 0.8; stroke-linejoin: miter; stroke-linecap: square\"/>\n   </g>\n   <g id=\"patch_8\">\n    <path d=\"M 7.2 7.2 \nL 342 7.2 \n\" style=\"fill: none; stroke: #000000; stroke-width: 0.8; stroke-linejoin: miter; stroke-linecap: square\"/>\n   </g>\n   <g id=\"text_1\">\n    <g clip-path=\"url(#p33c4667af8)\">\n     <!-- Rain -->\n     <g transform=\"translate(23.07258 29.38001)scale(0.12 -0.12)\">\n      <defs>\n       <path id=\"DejaVuSans-52\" d=\"M 2841 2188 \nQ 3044 2119 3236 1894 \nQ 3428 1669 3622 1275 \nL 4263 0 \nL 3584 0 \nL 2988 1197 \nQ 2756 1666 2539 1819 \nQ 2322 1972 1947 1972 \nL 1259 1972 \nL 1259 0 \nL 628 0 \nL 628 4666 \nL 2053 4666 \nQ 2853 4666 3247 4331 \nQ 3641 3997 3641 3322 \nQ 3641 2881 3436 2590 \nQ 3231 2300 2841 2188 \nz\nM 1259 4147 \nL 1259 2491 \nL 2053 2491 \nQ 2509 2491 2742 2702 \nQ 2975 2913 2975 3322 \nQ 2975 3731 2742 3939 \nQ 2509 4147 2053 4147 \nL 1259 4147 \nz\n\" transform=\"scale(0.015625)\"/>\n       <path id=\"DejaVuSans-61\" d=\"M 2194 1759 \nQ 1497 1759 1228 1600 \nQ 959 1441 959 1056 \nQ 959 750 1161 570 \nQ 1363 391 1709 391 \nQ 2188 391 2477 730 \nQ 2766 1069 2766 1631 \nL 2766 1759 \nL 2194 1759 \nz\nM 3341 1997 \nL 3341 0 \nL 2766 0 \nL 2766 531 \nQ 2569 213 2275 61 \nQ 1981 -91 1556 -91 \nQ 1019 -91 701 211 \nQ 384 513 384 1019 \nQ 384 1609 779 1909 \nQ 1175 2209 1959 2209 \nL 2766 2209 \nL 2766 2266 \nQ 2766 2663 2505 2880 \nQ 2244 3097 1772 3097 \nQ 1472 3097 1187 3025 \nQ 903 2953 641 2809 \nL 641 3341 \nQ 956 3463 1253 3523 \nQ 1550 3584 1831 3584 \nQ 2591 3584 2966 3190 \nQ 3341 2797 3341 1997 \nz\n\" transform=\"scale(0.015625)\"/>\n       <path id=\"DejaVuSans-69\" d=\"M 603 3500 \nL 1178 3500 \nL 1178 0 \nL 603 0 \nL 603 3500 \nz\nM 603 4863 \nL 1178 4863 \nL 1178 4134 \nL 603 4134 \nL 603 4863 \nz\n\" transform=\"scale(0.015625)\"/>\n       <path id=\"DejaVuSans-6e\" d=\"M 3513 2113 \nL 3513 0 \nL 2938 0 \nL 2938 2094 \nQ 2938 2591 2744 2837 \nQ 2550 3084 2163 3084 \nQ 1697 3084 1428 2787 \nQ 1159 2491 1159 1978 \nL 1159 0 \nL 581 0 \nL 581 3500 \nL 1159 3500 \nL 1159 2956 \nQ 1366 3272 1645 3428 \nQ 1925 3584 2291 3584 \nQ 2894 3584 3203 3211 \nQ 3513 2838 3513 2113 \nz\n\" transform=\"scale(0.015625)\"/>\n      </defs>\n      <use xlink:href=\"#DejaVuSans-52\"/>\n      <use xlink:href=\"#DejaVuSans-61\" x=\"67.232422\"/>\n      <use xlink:href=\"#DejaVuSans-69\" x=\"128.511719\"/>\n      <use xlink:href=\"#DejaVuSans-6e\" x=\"156.294922\"/>\n     </g>\n    </g>\n   </g>\n   <g id=\"text_2\">\n    <g clip-path=\"url(#p33c4667af8)\">\n     <!-- Utility -->\n     <g transform=\"translate(155.394964 209.08249)scale(0.12 -0.12)\">\n      <defs>\n       <path id=\"DejaVuSans-55\" d=\"M 556 4666 \nL 1191 4666 \nL 1191 1831 \nQ 1191 1081 1462 751 \nQ 1734 422 2344 422 \nQ 2950 422 3222 751 \nQ 3494 1081 3494 1831 \nL 3494 4666 \nL 4128 4666 \nL 4128 1753 \nQ 4128 841 3676 375 \nQ 3225 -91 2344 -91 \nQ 1459 -91 1007 375 \nQ 556 841 556 1753 \nL 556 4666 \nz\n\" transform=\"scale(0.015625)\"/>\n       <path id=\"DejaVuSans-74\" d=\"M 1172 4494 \nL 1172 3500 \nL 2356 3500 \nL 2356 3053 \nL 1172 3053 \nL 1172 1153 \nQ 1172 725 1289 603 \nQ 1406 481 1766 481 \nL 2356 481 \nL 2356 0 \nL 1766 0 \nQ 1100 0 847 248 \nQ 594 497 594 1153 \nL 594 3053 \nL 172 3053 \nL 172 3500 \nL 594 3500 \nL 594 4494 \nL 1172 4494 \nz\n\" transform=\"scale(0.015625)\"/>\n       <path id=\"DejaVuSans-6c\" d=\"M 603 4863 \nL 1178 4863 \nL 1178 0 \nL 603 0 \nL 603 4863 \nz\n\" transform=\"scale(0.015625)\"/>\n       <path id=\"DejaVuSans-79\" d=\"M 2059 -325 \nQ 1816 -950 1584 -1140 \nQ 1353 -1331 966 -1331 \nL 506 -1331 \nL 506 -850 \nL 844 -850 \nQ 1081 -850 1212 -737 \nQ 1344 -625 1503 -206 \nL 1606 56 \nL 191 3500 \nL 800 3500 \nL 1894 763 \nL 2988 3500 \nL 3597 3500 \nL 2059 -325 \nz\n\" transform=\"scale(0.015625)\"/>\n      </defs>\n      <use xlink:href=\"#DejaVuSans-55\"/>\n      <use xlink:href=\"#DejaVuSans-74\" x=\"73.193359\"/>\n      <use xlink:href=\"#DejaVuSans-69\" x=\"112.402344\"/>\n      <use xlink:href=\"#DejaVuSans-6c\" x=\"140.185547\"/>\n      <use xlink:href=\"#DejaVuSans-69\" x=\"167.96875\"/>\n      <use xlink:href=\"#DejaVuSans-74\" x=\"195.751953\"/>\n      <use xlink:href=\"#DejaVuSans-79\" x=\"234.960938\"/>\n     </g>\n    </g>\n   </g>\n   <g id=\"text_3\">\n    <g clip-path=\"url(#p33c4667af8)\">\n     <!-- Umbrella -->\n     <g transform=\"translate(285.868357 29.38001)scale(0.12 -0.12)\">\n      <defs>\n       <path id=\"DejaVuSans-6d\" d=\"M 3328 2828 \nQ 3544 3216 3844 3400 \nQ 4144 3584 4550 3584 \nQ 5097 3584 5394 3201 \nQ 5691 2819 5691 2113 \nL 5691 0 \nL 5113 0 \nL 5113 2094 \nQ 5113 2597 4934 2840 \nQ 4756 3084 4391 3084 \nQ 3944 3084 3684 2787 \nQ 3425 2491 3425 1978 \nL 3425 0 \nL 2847 0 \nL 2847 2094 \nQ 2847 2600 2669 2842 \nQ 2491 3084 2119 3084 \nQ 1678 3084 1418 2786 \nQ 1159 2488 1159 1978 \nL 1159 0 \nL 581 0 \nL 581 3500 \nL 1159 3500 \nL 1159 2956 \nQ 1356 3278 1631 3431 \nQ 1906 3584 2284 3584 \nQ 2666 3584 2933 3390 \nQ 3200 3197 3328 2828 \nz\n\" transform=\"scale(0.015625)\"/>\n       <path id=\"DejaVuSans-62\" d=\"M 3116 1747 \nQ 3116 2381 2855 2742 \nQ 2594 3103 2138 3103 \nQ 1681 3103 1420 2742 \nQ 1159 2381 1159 1747 \nQ 1159 1113 1420 752 \nQ 1681 391 2138 391 \nQ 2594 391 2855 752 \nQ 3116 1113 3116 1747 \nz\nM 1159 2969 \nQ 1341 3281 1617 3432 \nQ 1894 3584 2278 3584 \nQ 2916 3584 3314 3078 \nQ 3713 2572 3713 1747 \nQ 3713 922 3314 415 \nQ 2916 -91 2278 -91 \nQ 1894 -91 1617 61 \nQ 1341 213 1159 525 \nL 1159 0 \nL 581 0 \nL 581 4863 \nL 1159 4863 \nL 1159 2969 \nz\n\" transform=\"scale(0.015625)\"/>\n       <path id=\"DejaVuSans-72\" d=\"M 2631 2963 \nQ 2534 3019 2420 3045 \nQ 2306 3072 2169 3072 \nQ 1681 3072 1420 2755 \nQ 1159 2438 1159 1844 \nL 1159 0 \nL 581 0 \nL 581 3500 \nL 1159 3500 \nL 1159 2956 \nQ 1341 3275 1631 3429 \nQ 1922 3584 2338 3584 \nQ 2397 3584 2469 3576 \nQ 2541 3569 2628 3553 \nL 2631 2963 \nz\n\" transform=\"scale(0.015625)\"/>\n       <path id=\"DejaVuSans-65\" d=\"M 3597 1894 \nL 3597 1613 \nL 953 1613 \nQ 991 1019 1311 708 \nQ 1631 397 2203 397 \nQ 2534 397 2845 478 \nQ 3156 559 3463 722 \nL 3463 178 \nQ 3153 47 2828 -22 \nQ 2503 -91 2169 -91 \nQ 1331 -91 842 396 \nQ 353 884 353 1716 \nQ 353 2575 817 3079 \nQ 1281 3584 2069 3584 \nQ 2775 3584 3186 3129 \nQ 3597 2675 3597 1894 \nz\nM 3022 2063 \nQ 3016 2534 2758 2815 \nQ 2500 3097 2075 3097 \nQ 1594 3097 1305 2825 \nQ 1016 2553 972 2059 \nL 3022 2063 \nz\n\" transform=\"scale(0.015625)\"/>\n      </defs>\n      <use xlink:href=\"#DejaVuSans-55\"/>\n      <use xlink:href=\"#DejaVuSans-6d\" x=\"73.193359\"/>\n      <use xlink:href=\"#DejaVuSans-62\" x=\"170.605469\"/>\n      <use xlink:href=\"#DejaVuSans-72\" x=\"234.082031\"/>\n      <use xlink:href=\"#DejaVuSans-65\" x=\"272.945312\"/>\n      <use xlink:href=\"#DejaVuSans-6c\" x=\"334.46875\"/>\n      <use xlink:href=\"#DejaVuSans-6c\" x=\"362.251953\"/>\n      <use xlink:href=\"#DejaVuSans-61\" x=\"390.035156\"/>\n     </g>\n    </g>\n   </g>\n  </g>\n </g>\n <defs>\n  <clipPath id=\"p33c4667af8\">\n   <rect x=\"7.2\" y=\"7.2\" width=\"334.8\" height=\"217.44\"/>\n  </clipPath>\n </defs>\n</svg>\n",
      "text/plain": [
       "<Figure size 432x288 with 1 Axes>"
      ]
     },
     "metadata": {},
     "output_type": "display_data"
    }
   ],
   "source": [
    "# Create the nodes for the network\n",
    "rain = DiscreteNode(\"Rain\", node_type=DN.state_type, value_space=[0, 1])\n",
    "umbrella = DiscreteNode(\"Umbrella\", node_type=DN.action_type, value_space=[0, 1])\n",
    "utility = DiscreteNode(\"Utility\", node_type=DN.state_type, value_space=[0, 1])\n",
    "\n",
    "# Create the network structure\n",
    "dn = DN()\n",
    "dn.add_nodes([rain, umbrella, utility])\n",
    "dn.add_edges([(\"Rain\", \"Utility\"), (\"Umbrella\", \"Utility\")])\n",
    "dn.draw()"
   ]
  },
  {
   "cell_type": "markdown",
   "metadata": {},
   "source": [
    "## Populate the Decision Network with data"
   ]
  },
  {
   "cell_type": "code",
   "execution_count": 3,
   "metadata": {},
   "outputs": [],
   "source": [
    "# Add data for node Rain\n",
    "data = {\"Rain\": [0,1], \"Prob\": [0.8, 0.2]}\n",
    "dn.add_pt(\"Rain\", data)\n",
    "\n",
    "# Add data for node utility\n",
    "data = {\"Rain\": [0,0,0,0,1,1,1,1], \"Umbrella\": [0,0,1,1,0,0,1,1], \"Utility\": [0,1,0,1,0,1,0,1], \"Prob\":[0,1,1,0,1,0,0,1]}\n",
    "dn.add_pt(\"Utility\", data)"
   ]
  },
  {
   "cell_type": "code",
   "execution_count": 4,
   "metadata": {},
   "outputs": [
    {
     "data": {
      "text/plain": [
       "['Umbrella']"
      ]
     },
     "execution_count": 4,
     "metadata": {},
     "output_type": "execute_result"
    }
   ],
   "source": [
    "dn.get_nodes_by_type(DN.action_type)"
   ]
  },
  {
   "cell_type": "markdown",
   "metadata": {},
   "source": [
    "## Classical query for the best decision"
   ]
  },
  {
   "cell_type": "code",
   "execution_count": 5,
   "metadata": {},
   "outputs": [
    {
     "data": {
      "text/plain": [
       "{'Umbrella': 1}"
      ]
     },
     "execution_count": 5,
     "metadata": {},
     "output_type": "execute_result"
    }
   ],
   "source": [
    "dn.initialize()\n",
    "dn.query_decision(query=\"Utility\", evidence={\"Rain\": 1}, n_samples=100)"
   ]
  },
  {
   "cell_type": "markdown",
   "metadata": {},
   "source": [
    "## Quantum-Classical query for the best decision"
   ]
  },
  {
   "cell_type": "code",
   "execution_count": 6,
   "metadata": {},
   "outputs": [],
   "source": [
    "# dn.query_decision(query=\"Utility\", evidence={\"Rain\": 1}, n_samples=100, quantum=True)"
   ]
  },
  {
   "cell_type": "markdown",
   "metadata": {},
   "source": [
    "# Creating a dynamic decision network"
   ]
  },
  {
   "cell_type": "markdown",
   "metadata": {},
   "source": [
    "## Example: Tiger problem"
   ]
  },
  {
   "cell_type": "code",
   "execution_count": 7,
   "metadata": {},
   "outputs": [
    {
     "data": {
      "image/svg+xml": "<?xml version=\"1.0\" encoding=\"utf-8\" standalone=\"no\"?>\n<!DOCTYPE svg PUBLIC \"-//W3C//DTD SVG 1.1//EN\"\n  \"http://www.w3.org/Graphics/SVG/1.1/DTD/svg11.dtd\">\n<svg xmlns:xlink=\"http://www.w3.org/1999/xlink\" width=\"349.2pt\" height=\"231.84pt\" viewBox=\"0 0 349.2 231.84\" xmlns=\"http://www.w3.org/2000/svg\" version=\"1.1\">\n <metadata>\n  <rdf:RDF xmlns:dc=\"http://purl.org/dc/elements/1.1/\" xmlns:cc=\"http://creativecommons.org/ns#\" xmlns:rdf=\"http://www.w3.org/1999/02/22-rdf-syntax-ns#\">\n   <cc:Work>\n    <dc:type rdf:resource=\"http://purl.org/dc/dcmitype/StillImage\"/>\n    <dc:date>2022-07-01T20:25:11.132922</dc:date>\n    <dc:format>image/svg+xml</dc:format>\n    <dc:creator>\n     <cc:Agent>\n      <dc:title>Matplotlib v3.5.2, https://matplotlib.org/</dc:title>\n     </cc:Agent>\n    </dc:creator>\n   </cc:Work>\n  </rdf:RDF>\n </metadata>\n <defs>\n  <style type=\"text/css\">*{stroke-linejoin: round; stroke-linecap: butt}</style>\n </defs>\n <g id=\"figure_1\">\n  <g id=\"patch_1\">\n   <path d=\"M 0 231.84 \nL 349.2 231.84 \nL 349.2 0 \nL 0 0 \nL 0 231.84 \nz\n\" style=\"fill: none\"/>\n  </g>\n  <g id=\"axes_1\">\n   <g id=\"patch_2\">\n    <path d=\"M 7.2 224.64 \nL 342 224.64 \nL 342 7.2 \nL 7.2 7.2 \nz\n\" style=\"fill: #ffffff\"/>\n   </g>\n   <g id=\"patch_3\">\n    <path d=\"M 305.790275 52.504789 \nQ 300.784184 70.996377 296.654572 86.250406 \n\" clip-path=\"url(#p38d83db39b)\" style=\"fill: none; stroke: #000000; stroke-width: 3; stroke-linecap: round\"/>\n    <path d=\"M 300.225497 82.244349 \nL 296.654572 86.250406 \nL 295.592281 80.990032 \nL 300.225497 82.244349 \nz\n\" clip-path=\"url(#p38d83db39b)\" style=\"stroke: #000000; stroke-width: 3; stroke-linecap: round\"/>\n   </g>\n   <g id=\"patch_4\">\n    <path d=\"M 283.173432 142.756367 \nQ 279.501135 160.842759 276.496243 175.64212 \n\" clip-path=\"url(#p38d83db39b)\" style=\"fill: none; stroke: #000000; stroke-width: 3; stroke-linecap: round\"/>\n    <path d=\"M 279.803364 171.415661 \nL 276.496243 175.64212 \nL 275.099348 170.460548 \nL 279.803364 171.415661 \nz\n\" clip-path=\"url(#p38d83db39b)\" style=\"stroke: #000000; stroke-width: 3; stroke-linecap: round\"/>\n   </g>\n   <g id=\"patch_5\">\n    <path d=\"M 262.825483 125.10447 \nQ 162.439816 160.844837 65.213961 195.460214 \n\" clip-path=\"url(#p38d83db39b)\" style=\"fill: none; stroke: #000000; stroke-width: 3; stroke-linecap: round\"/>\n    <path d=\"M 70.540889 196.111237 \nL 65.213961 195.460214 \nL 68.930936 191.589285 \nL 70.540889 196.111237 \nz\n\" clip-path=\"url(#p38d83db39b)\" style=\"stroke: #000000; stroke-width: 3; stroke-linecap: round\"/>\n   </g>\n   <g id=\"patch_6\">\n    <path d=\"M 118.886427 37.54832 \nQ 191.32126 70.993449 260.710922 103.03254 \n\" clip-path=\"url(#p38d83db39b)\" style=\"fill: none; stroke: #000000; stroke-width: 3; stroke-linecap: round\"/>\n    <path d=\"M 257.359109 98.841437 \nL 260.710922 103.03254 \nL 255.346952 103.199329 \nL 257.359109 98.841437 \nz\n\" clip-path=\"url(#p38d83db39b)\" style=\"stroke: #000000; stroke-width: 3; stroke-linecap: round\"/>\n   </g>\n   <g id=\"patch_7\">\n    <path d=\"M 85.641835 52.14284 \nQ 65.138219 115.921036 45.661148 176.506082 \n\" clip-path=\"url(#p38d83db39b)\" style=\"fill: none; stroke: #000000; stroke-width: 3; stroke-linecap: round\"/>\n    <path d=\"M 49.41505 172.670953 \nL 45.661148 176.506082 \nL 44.845385 171.201883 \nL 49.41505 172.670953 \nz\n\" clip-path=\"url(#p38d83db39b)\" style=\"stroke: #000000; stroke-width: 3; stroke-linecap: round\"/>\n   </g>\n   <g id=\"patch_8\">\n    <path d=\"M 113.208044 45.616779 \nQ 182.201665 115.920179 248.845982 183.829675 \n\" clip-path=\"url(#p38d83db39b)\" style=\"fill: none; stroke: #000000; stroke-width: 3; stroke-linecap: round\"/>\n    <path d=\"M 247.19687 178.722775 \nL 248.845982 183.829675 \nL 243.770995 182.084825 \nL 247.19687 178.722775 \nz\n\" clip-path=\"url(#p38d83db39b)\" style=\"stroke: #000000; stroke-width: 3; stroke-linecap: round\"/>\n   </g>\n   <g id=\"matplotlib.axis_1\">\n    <g id=\"xtick_1\"/>\n    <g id=\"xtick_2\"/>\n    <g id=\"xtick_3\"/>\n    <g id=\"xtick_4\"/>\n    <g id=\"xtick_5\"/>\n    <g id=\"xtick_6\"/>\n   </g>\n   <g id=\"matplotlib.axis_2\">\n    <g id=\"ytick_1\"/>\n    <g id=\"ytick_2\"/>\n    <g id=\"ytick_3\"/>\n    <g id=\"ytick_4\"/>\n    <g id=\"ytick_5\"/>\n    <g id=\"ytick_6\"/>\n    <g id=\"ytick_7\"/>\n    <g id=\"ytick_8\"/>\n   </g>\n   <g id=\"PathCollection_1\">\n    <defs>\n     <path id=\"m6efb99757b\" d=\"M 0 27.386128 \nC 7.262886 27.386128 14.229281 24.500553 19.364917 19.364917 \nC 24.500553 14.229281 27.386128 7.262886 27.386128 0 \nC 27.386128 -7.262886 24.500553 -14.229281 19.364917 -19.364917 \nC 14.229281 -24.500553 7.262886 -27.386128 0 -27.386128 \nC -7.262886 -27.386128 -14.229281 -24.500553 -19.364917 -19.364917 \nC -24.500553 -14.229281 -27.386128 -7.262886 -27.386128 0 \nC -27.386128 7.262886 -24.500553 14.229281 -19.364917 19.364917 \nC -14.229281 24.500553 -7.262886 27.386128 0 27.386128 \nz\n\" style=\"stroke: #ffa500\"/>\n    </defs>\n    <g clip-path=\"url(#p38d83db39b)\">\n     <use xlink:href=\"#m6efb99757b\" x=\"312.947107\" y=\"26.06876\" style=\"fill: #ffa500; stroke: #ffa500\"/>\n     <use xlink:href=\"#m6efb99757b\" x=\"288.622341\" y=\"115.92\" style=\"fill: #ffa500; stroke: #ffa500\"/>\n     <use xlink:href=\"#m6efb99757b\" x=\"270.378767\" y=\"205.77124\" style=\"fill: #ffa500; stroke: #ffa500\"/>\n     <use xlink:href=\"#m6efb99757b\" x=\"36.252893\" y=\"205.77124\" style=\"fill: #ffa500; stroke: #ffa500\"/>\n     <use xlink:href=\"#m6efb99757b\" x=\"94.024212\" y=\"26.06876\" style=\"fill: #ffa500; stroke: #ffa500\"/>\n    </g>\n   </g>\n   <g id=\"patch_9\">\n    <path d=\"M 7.2 224.64 \nL 7.2 7.2 \n\" style=\"fill: none; stroke: #000000; stroke-width: 0.8; stroke-linejoin: miter; stroke-linecap: square\"/>\n   </g>\n   <g id=\"patch_10\">\n    <path d=\"M 342 224.64 \nL 342 7.2 \n\" style=\"fill: none; stroke: #000000; stroke-width: 0.8; stroke-linejoin: miter; stroke-linecap: square\"/>\n   </g>\n   <g id=\"patch_11\">\n    <path d=\"M 7.2 224.64 \nL 342 224.64 \n\" style=\"fill: none; stroke: #000000; stroke-width: 0.8; stroke-linejoin: miter; stroke-linecap: square\"/>\n   </g>\n   <g id=\"patch_12\">\n    <path d=\"M 7.2 7.2 \nL 342 7.2 \n\" style=\"fill: none; stroke: #000000; stroke-width: 0.8; stroke-linejoin: miter; stroke-linecap: square\"/>\n   </g>\n   <g id=\"text_1\">\n    <g clip-path=\"url(#p38d83db39b)\">\n     <!-- S -->\n     <g transform=\"translate(309.138045 29.38001)scale(0.12 -0.12)\">\n      <defs>\n       <path id=\"DejaVuSans-53\" d=\"M 3425 4513 \nL 3425 3897 \nQ 3066 4069 2747 4153 \nQ 2428 4238 2131 4238 \nQ 1616 4238 1336 4038 \nQ 1056 3838 1056 3469 \nQ 1056 3159 1242 3001 \nQ 1428 2844 1947 2747 \nL 2328 2669 \nQ 3034 2534 3370 2195 \nQ 3706 1856 3706 1288 \nQ 3706 609 3251 259 \nQ 2797 -91 1919 -91 \nQ 1588 -91 1214 -16 \nQ 841 59 441 206 \nL 441 856 \nQ 825 641 1194 531 \nQ 1563 422 1919 422 \nQ 2459 422 2753 634 \nQ 3047 847 3047 1241 \nQ 3047 1584 2836 1778 \nQ 2625 1972 2144 2069 \nL 1759 2144 \nQ 1053 2284 737 2584 \nQ 422 2884 422 3419 \nQ 422 4038 858 4394 \nQ 1294 4750 2059 4750 \nQ 2388 4750 2728 4690 \nQ 3069 4631 3425 4513 \nz\n\" transform=\"scale(0.015625)\"/>\n      </defs>\n      <use xlink:href=\"#DejaVuSans-53\"/>\n     </g>\n    </g>\n   </g>\n   <g id=\"text_2\">\n    <g clip-path=\"url(#p38d83db39b)\">\n     <!-- S' -->\n     <g transform=\"translate(283.164216 119.23125)scale(0.12 -0.12)\">\n      <defs>\n       <path id=\"DejaVuSans-27\" d=\"M 1147 4666 \nL 1147 2931 \nL 616 2931 \nL 616 4666 \nL 1147 4666 \nz\n\" transform=\"scale(0.015625)\"/>\n      </defs>\n      <use xlink:href=\"#DejaVuSans-53\"/>\n      <use xlink:href=\"#DejaVuSans-27\" x=\"63.476562\"/>\n     </g>\n    </g>\n   </g>\n   <g id=\"text_3\">\n    <g clip-path=\"url(#p38d83db39b)\">\n     <!-- O -->\n     <g transform=\"translate(265.655642 209.08249)scale(0.12 -0.12)\">\n      <defs>\n       <path id=\"DejaVuSans-4f\" d=\"M 2522 4238 \nQ 1834 4238 1429 3725 \nQ 1025 3213 1025 2328 \nQ 1025 1447 1429 934 \nQ 1834 422 2522 422 \nQ 3209 422 3611 934 \nQ 4013 1447 4013 2328 \nQ 4013 3213 3611 3725 \nQ 3209 4238 2522 4238 \nz\nM 2522 4750 \nQ 3503 4750 4090 4092 \nQ 4678 3434 4678 2328 \nQ 4678 1225 4090 567 \nQ 3503 -91 2522 -91 \nQ 1538 -91 948 565 \nQ 359 1222 359 2328 \nQ 359 3434 948 4092 \nQ 1538 4750 2522 4750 \nz\n\" transform=\"scale(0.015625)\"/>\n      </defs>\n      <use xlink:href=\"#DejaVuSans-4f\"/>\n     </g>\n    </g>\n   </g>\n   <g id=\"text_4\">\n    <g clip-path=\"url(#p38d83db39b)\">\n     <!-- R -->\n     <g transform=\"translate(32.08383 209.08249)scale(0.12 -0.12)\">\n      <defs>\n       <path id=\"DejaVuSans-52\" d=\"M 2841 2188 \nQ 3044 2119 3236 1894 \nQ 3428 1669 3622 1275 \nL 4263 0 \nL 3584 0 \nL 2988 1197 \nQ 2756 1666 2539 1819 \nQ 2322 1972 1947 1972 \nL 1259 1972 \nL 1259 0 \nL 628 0 \nL 628 4666 \nL 2053 4666 \nQ 2853 4666 3247 4331 \nQ 3641 3997 3641 3322 \nQ 3641 2881 3436 2590 \nQ 3231 2300 2841 2188 \nz\nM 1259 4147 \nL 1259 2491 \nL 2053 2491 \nQ 2509 2491 2742 2702 \nQ 2975 2913 2975 3322 \nQ 2975 3731 2742 3939 \nQ 2509 4147 2053 4147 \nL 1259 4147 \nz\n\" transform=\"scale(0.015625)\"/>\n      </defs>\n      <use xlink:href=\"#DejaVuSans-52\"/>\n     </g>\n    </g>\n   </g>\n   <g id=\"text_5\">\n    <g clip-path=\"url(#p38d83db39b)\">\n     <!-- A -->\n     <g transform=\"translate(89.919837 29.38001)scale(0.12 -0.12)\">\n      <defs>\n       <path id=\"DejaVuSans-41\" d=\"M 2188 4044 \nL 1331 1722 \nL 3047 1722 \nL 2188 4044 \nz\nM 1831 4666 \nL 2547 4666 \nL 4325 0 \nL 3669 0 \nL 3244 1197 \nL 1141 1197 \nL 716 0 \nL 50 0 \nL 1831 4666 \nz\n\" transform=\"scale(0.015625)\"/>\n      </defs>\n      <use xlink:href=\"#DejaVuSans-41\"/>\n     </g>\n    </g>\n   </g>\n  </g>\n </g>\n <defs>\n  <clipPath id=\"p38d83db39b\">\n   <rect x=\"7.2\" y=\"7.2\" width=\"334.8\" height=\"217.44\"/>\n  </clipPath>\n </defs>\n</svg>\n",
      "text/plain": [
       "<Figure size 432x288 with 1 Axes>"
      ]
     },
     "metadata": {},
     "output_type": "display_data"
    }
   ],
   "source": [
    "# Create nodes\n",
    "s0 = DiscreteNode(\"S\", node_type=DN.state_type, value_space=[0,1])\n",
    "s1 = DiscreteNode(\"S\\'\", node_type=DN.state_type, value_space=[0,1])\n",
    "o1 = DiscreteNode(\"O\", node_type=DN.observation_type, value_space=[0,2])\n",
    "r1 = DiscreteNode(\"R\", node_type=DN.reward_type, value_space=[-100,-1,10])\n",
    "a0 = DiscreteNode(\"A\", node_type=DN.action_type, value_space=[0,1,2])\n",
    "\n",
    "# Create the initial DDN structure\n",
    "ddn = DN()\n",
    "ddn.add_nodes([s0, s1, o1, r1, a0])\n",
    "ddn.add_edges([\n",
    "    (\"S\", \"S\\'\"), \n",
    "    (\"A\", \"S\\'\"), \n",
    "    (\"A\", \"R\"),\n",
    "    (\"A\", \"O\"),\n",
    "    (\"S\\'\", \"O\"), \n",
    "    (\"S\\'\", \"R\")\n",
    "])\n",
    "ddn.draw()"
   ]
  },
  {
   "cell_type": "code",
   "execution_count": 8,
   "metadata": {},
   "outputs": [],
   "source": [
    "# Add data for node State 0\n",
    "data = {\n",
    "    \"S\": [0,1], \n",
    "    \"Prob\": [0.5,0.5]\n",
    "}\n",
    "ddn.add_pt(\"S\", data)\n",
    "\n",
    "# Add data for node State 1\n",
    "data = {\n",
    "    \"S\": [0,0,0,0,0,0,1,1,1,1,1,1], \n",
    "    \"A\": [0,0,1,1,2,2,0,0,1,1,2,2], \n",
    "    \"S\\'\": [0,1,0,1,0,1,0,1,0,1,0,1], \n",
    "    \"Prob\": [1,0,0.5,0.5,0.5,0.5,0,1,0.5,0.5,0.5,0.5]\n",
    "}\n",
    "ddn.add_pt(\"S\\'\", data)\n",
    "\n",
    "# Add data for node Evidence\n",
    "data = {\n",
    "    \"A\": [0,0,0,0,1,1,1,1,2,2,2,2], \n",
    "    \"S\\'\": [0,0,1,1,0,0,1,1,0,0,1,1], \n",
    "    \"O\": [0,1,0,1,0,1,0,1,0,1,0,1], \n",
    "    \"Prob\": [0.85,0.15,0.15,0.85,0.5,0.5,0.5,0.5,0.5,0.5,0.5,0.5]\n",
    "}\n",
    "ddn.add_pt(\"O\", data)\n",
    "\n",
    "# Add data for node Reward\n",
    "data = {\n",
    "    \"A\": [0,0,0,0,0,0,1,1,1,1,1,1,2,2,2,2,2,2], \n",
    "    \"S\\'\": [0,0,0,1,1,1,0,0,0,1,1,1,0,0,0,1,1,1], \n",
    "    \"R\": [-100,-1,10,-100,-1,10,-100,-1,10,-100,-1,10,-100,-1,10,-100,-1,10], \n",
    "    \"Prob\": [0,1,0,0,1,0,1,0,0,0,0,1,0,0,1,1,0,0]\n",
    "}\n",
    "ddn.add_pt(\"R\", data)\n",
    "\n",
    "# Initialize ddn\n",
    "ddn.initialize()"
   ]
  },
  {
   "cell_type": "code",
   "execution_count": 9,
   "metadata": {},
   "outputs": [],
   "source": [
    "# Define tree parameters\n",
    "# horizon = 1\n",
    "# discount = 0.75\n",
    "# action_space = [0,1,2]\n",
    "# observation_space = [0,1]\n",
    "\n",
    "# Build the tree\n",
    "# tree = Tree(horizon, discount, action_space, observation_space)"
   ]
  },
  {
   "cell_type": "code",
   "execution_count": 10,
   "metadata": {},
   "outputs": [],
   "source": [
    "# ddn.node_map[\"S\"].get_pt()"
   ]
  },
  {
   "cell_type": "code",
   "execution_count": 11,
   "metadata": {},
   "outputs": [],
   "source": [
    "# tree.pomdp_lookahead(ddn, verbose=True)"
   ]
  },
  {
   "cell_type": "code",
   "execution_count": 12,
   "metadata": {},
   "outputs": [],
   "source": [
    "# time = 10\n",
    "# tree.online_planning(ddn, time, verbose=True)"
   ]
  }
 ],
 "metadata": {
  "kernelspec": {
   "display_name": "Python 3.10.5 ('Thesis')",
   "language": "python",
   "name": "python3"
  },
  "language_info": {
   "codemirror_mode": {
    "name": "ipython",
    "version": 3
   },
   "file_extension": ".py",
   "mimetype": "text/x-python",
   "name": "python",
   "nbconvert_exporter": "python",
   "pygments_lexer": "ipython3",
   "version": "3.10.5"
  },
  "vscode": {
   "interpreter": {
    "hash": "50c1577026dbf5384446f55c4cd3c69deffafcb0c30b87db3f18132a40cdf908"
   }
  }
 },
 "nbformat": 4,
 "nbformat_minor": 4
}
