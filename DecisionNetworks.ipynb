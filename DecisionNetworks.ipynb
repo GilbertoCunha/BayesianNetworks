{
 "cells": [
  {
   "cell_type": "code",
   "execution_count": 12,
   "metadata": {},
   "outputs": [],
   "source": [
    "%config InlineBackend.figure_format = \"svg\"\n",
    "\n",
    "from src.networks.nodes import DiscreteNode\n",
    "# from src.trees.nodes import TreeBeliefNode, TreeObservationNode, Tree\n",
    "from src.networks.dn import DecisionNetwork"
   ]
  },
  {
   "cell_type": "markdown",
   "metadata": {},
   "source": [
    "# Decision Networks"
   ]
  },
  {
   "cell_type": "markdown",
   "metadata": {},
   "source": [
    "## Creating the decision network structure"
   ]
  },
  {
   "cell_type": "code",
   "execution_count": 13,
   "metadata": {},
   "outputs": [
    {
     "data": {
      "image/svg+xml": "<?xml version=\"1.0\" encoding=\"utf-8\" standalone=\"no\"?>\n<!DOCTYPE svg PUBLIC \"-//W3C//DTD SVG 1.1//EN\"\n  \"http://www.w3.org/Graphics/SVG/1.1/DTD/svg11.dtd\">\n<svg height=\"231.84pt\" version=\"1.1\" viewBox=\"0 0 349.2 231.84\" width=\"349.2pt\" xmlns=\"http://www.w3.org/2000/svg\" xmlns:xlink=\"http://www.w3.org/1999/xlink\">\n <metadata>\n  <rdf:RDF xmlns:cc=\"http://creativecommons.org/ns#\" xmlns:dc=\"http://purl.org/dc/elements/1.1/\" xmlns:rdf=\"http://www.w3.org/1999/02/22-rdf-syntax-ns#\">\n   <cc:Work>\n    <dc:type rdf:resource=\"http://purl.org/dc/dcmitype/StillImage\"/>\n    <dc:date>2022-06-23T13:43:12.021464</dc:date>\n    <dc:format>image/svg+xml</dc:format>\n    <dc:creator>\n     <cc:Agent>\n      <dc:title>Matplotlib v3.4.3, https://matplotlib.org/</dc:title>\n     </cc:Agent>\n    </dc:creator>\n   </cc:Work>\n  </rdf:RDF>\n </metadata>\n <defs>\n  <style type=\"text/css\">*{stroke-linecap:butt;stroke-linejoin:round;}</style>\n </defs>\n <g id=\"figure_1\">\n  <g id=\"patch_1\">\n   <path d=\"M 0 231.84 \nL 349.2 231.84 \nL 349.2 0 \nL 0 0 \nz\n\" style=\"fill:none;\"/>\n  </g>\n  <g id=\"axes_1\">\n   <g id=\"patch_2\">\n    <path d=\"M 7.2 224.64 \nL 342 224.64 \nL 342 7.2 \nL 7.2 7.2 \nz\n\" style=\"fill:#ffffff;\"/>\n   </g>\n   <g id=\"patch_3\">\n    <path clip-path=\"url(#p1353a60936)\" d=\"M 202.973601 41.96704 \nQ 130.762134 93.453907 61.281671 142.993566 \n\" style=\"fill:none;stroke:#000000;stroke-linecap:round;stroke-width:3;\"/>\n    <path clip-path=\"url(#p1353a60936)\" d=\"M 66.583274 142.161095 \nL 61.281671 142.993566 \nL 63.796655 138.252801 \nL 66.583274 142.161095 \nz\n\" style=\"stroke:#000000;stroke-linecap:round;stroke-width:3;\"/>\n   </g>\n   <g id=\"patch_4\">\n    <path clip-path=\"url(#p1353a60936)\" d=\"M 285.913522 201.38128 \nQ 174.597475 183.304769 66.592163 165.765884 \n\" style=\"fill:none;stroke:#000000;stroke-linecap:round;stroke-width:3;\"/>\n    <path clip-path=\"url(#p1353a60936)\" d=\"M 70.945404 168.904241 \nL 66.592163 165.765884 \nL 71.714794 164.166305 \nL 70.945404 168.904241 \nz\n\" style=\"stroke:#000000;stroke-linecap:round;stroke-width:3;\"/>\n   </g>\n   <g id=\"matplotlib.axis_1\">\n    <g id=\"xtick_1\"/>\n    <g id=\"xtick_2\"/>\n    <g id=\"xtick_3\"/>\n    <g id=\"xtick_4\"/>\n    <g id=\"xtick_5\"/>\n    <g id=\"xtick_6\"/>\n    <g id=\"xtick_7\"/>\n    <g id=\"xtick_8\"/>\n   </g>\n   <g id=\"matplotlib.axis_2\">\n    <g id=\"ytick_1\"/>\n    <g id=\"ytick_2\"/>\n    <g id=\"ytick_3\"/>\n    <g id=\"ytick_4\"/>\n    <g id=\"ytick_5\"/>\n    <g id=\"ytick_6\"/>\n    <g id=\"ytick_7\"/>\n    <g id=\"ytick_8\"/>\n   </g>\n   <g id=\"PathCollection_1\">\n    <defs>\n     <path d=\"M 0 27.386128 \nC 7.262886 27.386128 14.229281 24.500553 19.364917 19.364917 \nC 24.500553 14.229281 27.386128 7.262886 27.386128 0 \nC 27.386128 -7.262886 24.500553 -14.229281 19.364917 -19.364917 \nC 14.229281 -24.500553 7.262886 -27.386128 0 -27.386128 \nC -7.262886 -27.386128 -14.229281 -24.500553 -19.364917 -19.364917 \nC -24.500553 -14.229281 -27.386128 -7.262886 -27.386128 0 \nC -27.386128 7.262886 -24.500553 14.229281 -19.364917 19.364917 \nC -14.229281 24.500553 -7.262886 27.386128 0 27.386128 \nz\n\" id=\"mb1c56e23da\" style=\"stroke:#ffa500;\"/>\n    </defs>\n    <g clip-path=\"url(#p1353a60936)\">\n     <use style=\"fill:#ffa500;stroke:#ffa500;\" x=\"225.271288\" xlink:href=\"#mb1c56e23da\" y=\"26.06876\"/>\n     <use style=\"fill:#ffa500;stroke:#ffa500;\" x=\"36.252893\" xlink:href=\"#mb1c56e23da\" y=\"160.839117\"/>\n     <use style=\"fill:#ffa500;stroke:#ffa500;\" x=\"312.947107\" xlink:href=\"#mb1c56e23da\" y=\"205.77124\"/>\n    </g>\n   </g>\n   <g id=\"patch_5\">\n    <path d=\"M 7.2 224.64 \nL 7.2 7.2 \n\" style=\"fill:none;stroke:#000000;stroke-linecap:square;stroke-linejoin:miter;stroke-width:0.8;\"/>\n   </g>\n   <g id=\"patch_6\">\n    <path d=\"M 342 224.64 \nL 342 7.2 \n\" style=\"fill:none;stroke:#000000;stroke-linecap:square;stroke-linejoin:miter;stroke-width:0.8;\"/>\n   </g>\n   <g id=\"patch_7\">\n    <path d=\"M 7.2 224.64 \nL 342 224.64 \n\" style=\"fill:none;stroke:#000000;stroke-linecap:square;stroke-linejoin:miter;stroke-width:0.8;\"/>\n   </g>\n   <g id=\"patch_8\">\n    <path d=\"M 7.2 7.2 \nL 342 7.2 \n\" style=\"fill:none;stroke:#000000;stroke-linecap:square;stroke-linejoin:miter;stroke-width:0.8;\"/>\n   </g>\n   <g id=\"text_1\">\n    <g clip-path=\"url(#p1353a60936)\">\n     <!-- Rain -->\n     <g transform=\"translate(212.090975 29.38001)scale(0.12 -0.12)\">\n      <defs>\n       <path d=\"M 2841 2188 \nQ 3044 2119 3236 1894 \nQ 3428 1669 3622 1275 \nL 4263 0 \nL 3584 0 \nL 2988 1197 \nQ 2756 1666 2539 1819 \nQ 2322 1972 1947 1972 \nL 1259 1972 \nL 1259 0 \nL 628 0 \nL 628 4666 \nL 2053 4666 \nQ 2853 4666 3247 4331 \nQ 3641 3997 3641 3322 \nQ 3641 2881 3436 2590 \nQ 3231 2300 2841 2188 \nz\nM 1259 4147 \nL 1259 2491 \nL 2053 2491 \nQ 2509 2491 2742 2702 \nQ 2975 2913 2975 3322 \nQ 2975 3731 2742 3939 \nQ 2509 4147 2053 4147 \nL 1259 4147 \nz\n\" id=\"DejaVuSans-52\" transform=\"scale(0.015625)\"/>\n       <path d=\"M 2194 1759 \nQ 1497 1759 1228 1600 \nQ 959 1441 959 1056 \nQ 959 750 1161 570 \nQ 1363 391 1709 391 \nQ 2188 391 2477 730 \nQ 2766 1069 2766 1631 \nL 2766 1759 \nL 2194 1759 \nz\nM 3341 1997 \nL 3341 0 \nL 2766 0 \nL 2766 531 \nQ 2569 213 2275 61 \nQ 1981 -91 1556 -91 \nQ 1019 -91 701 211 \nQ 384 513 384 1019 \nQ 384 1609 779 1909 \nQ 1175 2209 1959 2209 \nL 2766 2209 \nL 2766 2266 \nQ 2766 2663 2505 2880 \nQ 2244 3097 1772 3097 \nQ 1472 3097 1187 3025 \nQ 903 2953 641 2809 \nL 641 3341 \nQ 956 3463 1253 3523 \nQ 1550 3584 1831 3584 \nQ 2591 3584 2966 3190 \nQ 3341 2797 3341 1997 \nz\n\" id=\"DejaVuSans-61\" transform=\"scale(0.015625)\"/>\n       <path d=\"M 603 3500 \nL 1178 3500 \nL 1178 0 \nL 603 0 \nL 603 3500 \nz\nM 603 4863 \nL 1178 4863 \nL 1178 4134 \nL 603 4134 \nL 603 4863 \nz\n\" id=\"DejaVuSans-69\" transform=\"scale(0.015625)\"/>\n       <path d=\"M 3513 2113 \nL 3513 0 \nL 2938 0 \nL 2938 2094 \nQ 2938 2591 2744 2837 \nQ 2550 3084 2163 3084 \nQ 1697 3084 1428 2787 \nQ 1159 2491 1159 1978 \nL 1159 0 \nL 581 0 \nL 581 3500 \nL 1159 3500 \nL 1159 2956 \nQ 1366 3272 1645 3428 \nQ 1925 3584 2291 3584 \nQ 2894 3584 3203 3211 \nQ 3513 2838 3513 2113 \nz\n\" id=\"DejaVuSans-6e\" transform=\"scale(0.015625)\"/>\n      </defs>\n      <use xlink:href=\"#DejaVuSans-52\"/>\n      <use x=\"67.232422\" xlink:href=\"#DejaVuSans-61\"/>\n      <use x=\"128.511719\" xlink:href=\"#DejaVuSans-69\"/>\n      <use x=\"156.294922\" xlink:href=\"#DejaVuSans-6e\"/>\n     </g>\n    </g>\n   </g>\n   <g id=\"text_2\">\n    <g clip-path=\"url(#p1353a60936)\">\n     <!-- Utility -->\n     <g transform=\"translate(18.605393 164.150367)scale(0.12 -0.12)\">\n      <defs>\n       <path d=\"M 556 4666 \nL 1191 4666 \nL 1191 1831 \nQ 1191 1081 1462 751 \nQ 1734 422 2344 422 \nQ 2950 422 3222 751 \nQ 3494 1081 3494 1831 \nL 3494 4666 \nL 4128 4666 \nL 4128 1753 \nQ 4128 841 3676 375 \nQ 3225 -91 2344 -91 \nQ 1459 -91 1007 375 \nQ 556 841 556 1753 \nL 556 4666 \nz\n\" id=\"DejaVuSans-55\" transform=\"scale(0.015625)\"/>\n       <path d=\"M 1172 4494 \nL 1172 3500 \nL 2356 3500 \nL 2356 3053 \nL 1172 3053 \nL 1172 1153 \nQ 1172 725 1289 603 \nQ 1406 481 1766 481 \nL 2356 481 \nL 2356 0 \nL 1766 0 \nQ 1100 0 847 248 \nQ 594 497 594 1153 \nL 594 3053 \nL 172 3053 \nL 172 3500 \nL 594 3500 \nL 594 4494 \nL 1172 4494 \nz\n\" id=\"DejaVuSans-74\" transform=\"scale(0.015625)\"/>\n       <path d=\"M 603 4863 \nL 1178 4863 \nL 1178 0 \nL 603 0 \nL 603 4863 \nz\n\" id=\"DejaVuSans-6c\" transform=\"scale(0.015625)\"/>\n       <path d=\"M 2059 -325 \nQ 1816 -950 1584 -1140 \nQ 1353 -1331 966 -1331 \nL 506 -1331 \nL 506 -850 \nL 844 -850 \nQ 1081 -850 1212 -737 \nQ 1344 -625 1503 -206 \nL 1606 56 \nL 191 3500 \nL 800 3500 \nL 1894 763 \nL 2988 3500 \nL 3597 3500 \nL 2059 -325 \nz\n\" id=\"DejaVuSans-79\" transform=\"scale(0.015625)\"/>\n      </defs>\n      <use xlink:href=\"#DejaVuSans-55\"/>\n      <use x=\"73.193359\" xlink:href=\"#DejaVuSans-74\"/>\n      <use x=\"112.402344\" xlink:href=\"#DejaVuSans-69\"/>\n      <use x=\"140.185547\" xlink:href=\"#DejaVuSans-6c\"/>\n      <use x=\"167.96875\" xlink:href=\"#DejaVuSans-69\"/>\n      <use x=\"195.751953\" xlink:href=\"#DejaVuSans-74\"/>\n      <use x=\"234.960938\" xlink:href=\"#DejaVuSans-79\"/>\n     </g>\n    </g>\n   </g>\n   <g id=\"text_3\">\n    <g clip-path=\"url(#p1353a60936)\">\n     <!-- Umbrella -->\n     <g transform=\"translate(285.868357 209.08249)scale(0.12 -0.12)\">\n      <defs>\n       <path d=\"M 3328 2828 \nQ 3544 3216 3844 3400 \nQ 4144 3584 4550 3584 \nQ 5097 3584 5394 3201 \nQ 5691 2819 5691 2113 \nL 5691 0 \nL 5113 0 \nL 5113 2094 \nQ 5113 2597 4934 2840 \nQ 4756 3084 4391 3084 \nQ 3944 3084 3684 2787 \nQ 3425 2491 3425 1978 \nL 3425 0 \nL 2847 0 \nL 2847 2094 \nQ 2847 2600 2669 2842 \nQ 2491 3084 2119 3084 \nQ 1678 3084 1418 2786 \nQ 1159 2488 1159 1978 \nL 1159 0 \nL 581 0 \nL 581 3500 \nL 1159 3500 \nL 1159 2956 \nQ 1356 3278 1631 3431 \nQ 1906 3584 2284 3584 \nQ 2666 3584 2933 3390 \nQ 3200 3197 3328 2828 \nz\n\" id=\"DejaVuSans-6d\" transform=\"scale(0.015625)\"/>\n       <path d=\"M 3116 1747 \nQ 3116 2381 2855 2742 \nQ 2594 3103 2138 3103 \nQ 1681 3103 1420 2742 \nQ 1159 2381 1159 1747 \nQ 1159 1113 1420 752 \nQ 1681 391 2138 391 \nQ 2594 391 2855 752 \nQ 3116 1113 3116 1747 \nz\nM 1159 2969 \nQ 1341 3281 1617 3432 \nQ 1894 3584 2278 3584 \nQ 2916 3584 3314 3078 \nQ 3713 2572 3713 1747 \nQ 3713 922 3314 415 \nQ 2916 -91 2278 -91 \nQ 1894 -91 1617 61 \nQ 1341 213 1159 525 \nL 1159 0 \nL 581 0 \nL 581 4863 \nL 1159 4863 \nL 1159 2969 \nz\n\" id=\"DejaVuSans-62\" transform=\"scale(0.015625)\"/>\n       <path d=\"M 2631 2963 \nQ 2534 3019 2420 3045 \nQ 2306 3072 2169 3072 \nQ 1681 3072 1420 2755 \nQ 1159 2438 1159 1844 \nL 1159 0 \nL 581 0 \nL 581 3500 \nL 1159 3500 \nL 1159 2956 \nQ 1341 3275 1631 3429 \nQ 1922 3584 2338 3584 \nQ 2397 3584 2469 3576 \nQ 2541 3569 2628 3553 \nL 2631 2963 \nz\n\" id=\"DejaVuSans-72\" transform=\"scale(0.015625)\"/>\n       <path d=\"M 3597 1894 \nL 3597 1613 \nL 953 1613 \nQ 991 1019 1311 708 \nQ 1631 397 2203 397 \nQ 2534 397 2845 478 \nQ 3156 559 3463 722 \nL 3463 178 \nQ 3153 47 2828 -22 \nQ 2503 -91 2169 -91 \nQ 1331 -91 842 396 \nQ 353 884 353 1716 \nQ 353 2575 817 3079 \nQ 1281 3584 2069 3584 \nQ 2775 3584 3186 3129 \nQ 3597 2675 3597 1894 \nz\nM 3022 2063 \nQ 3016 2534 2758 2815 \nQ 2500 3097 2075 3097 \nQ 1594 3097 1305 2825 \nQ 1016 2553 972 2059 \nL 3022 2063 \nz\n\" id=\"DejaVuSans-65\" transform=\"scale(0.015625)\"/>\n      </defs>\n      <use xlink:href=\"#DejaVuSans-55\"/>\n      <use x=\"73.193359\" xlink:href=\"#DejaVuSans-6d\"/>\n      <use x=\"170.605469\" xlink:href=\"#DejaVuSans-62\"/>\n      <use x=\"234.082031\" xlink:href=\"#DejaVuSans-72\"/>\n      <use x=\"272.945312\" xlink:href=\"#DejaVuSans-65\"/>\n      <use x=\"334.46875\" xlink:href=\"#DejaVuSans-6c\"/>\n      <use x=\"362.251953\" xlink:href=\"#DejaVuSans-6c\"/>\n      <use x=\"390.035156\" xlink:href=\"#DejaVuSans-61\"/>\n     </g>\n    </g>\n   </g>\n  </g>\n </g>\n <defs>\n  <clipPath id=\"p1353a60936\">\n   <rect height=\"217.44\" width=\"334.8\" x=\"7.2\" y=\"7.2\"/>\n  </clipPath>\n </defs>\n</svg>\n",
      "text/plain": [
       "<Figure size 432x288 with 1 Axes>"
      ]
     },
     "metadata": {},
     "output_type": "display_data"
    }
   ],
   "source": [
    "# Create the nodes for the network\n",
    "rain = DiscreteNode(\"Rain\", node_type=\"state\", value_space=[0, 1])\n",
    "umbrella = DiscreteNode(\"Umbrella\", node_type=\"action\", value_space=[0, 1])\n",
    "utility = DiscreteNode(\"Utility\", node_type=\"utility\", value_space=[0, 1])\n",
    "\n",
    "# Create the network structure\n",
    "dn = DecisionNetwork()\n",
    "dn.add_nodes([rain, umbrella, utility])\n",
    "dn.add_edges([(\"Rain\", \"Utility\"), (\"Umbrella\", \"Utility\")])\n",
    "dn.draw()"
   ]
  },
  {
   "cell_type": "markdown",
   "metadata": {},
   "source": [
    "## Populate the Decision Network with data"
   ]
  },
  {
   "cell_type": "code",
   "execution_count": 14,
   "metadata": {},
   "outputs": [],
   "source": [
    "# Add data for node Rain\n",
    "data = {\"Rain\": [0,1], \"Prob\": [0.8, 0.2]}\n",
    "dn.add_pt(\"Rain\", data)\n",
    "\n",
    "# Add data for node utility\n",
    "data = {\"Rain\": [0,0,0,0,1,1,1,1], \"Umbrella\": [0,0,1,1,0,0,1,1], \"Utility\": [0,1,0,1,0,1,0,1], \"Prob\":[0,1,1,0,1,0,0,1]}\n",
    "dn.add_pt(\"Utility\", data)"
   ]
  },
  {
   "cell_type": "markdown",
   "metadata": {},
   "source": [
    "## Classical query for the best decision"
   ]
  },
  {
   "cell_type": "code",
   "execution_count": 15,
   "metadata": {},
   "outputs": [
    {
     "data": {
      "text/plain": [
       "{'Umbrella': 1}"
      ]
     },
     "execution_count": 15,
     "metadata": {},
     "output_type": "execute_result"
    }
   ],
   "source": [
    "dn.initialize()\n",
    "dn.query_decision(query=\"Utility\", evidence={\"Rain\": 1}, n_samples=100)"
   ]
  },
  {
   "cell_type": "markdown",
   "metadata": {},
   "source": [
    "## Quantum-Classical query for the best decision"
   ]
  },
  {
   "cell_type": "code",
   "execution_count": 16,
   "metadata": {},
   "outputs": [],
   "source": [
    "# dn.query_decision(query=\"Utility\", evidence={\"Rain\": 1}, n_samples=100, quantum=True)"
   ]
  },
  {
   "cell_type": "markdown",
   "metadata": {},
   "source": [
    "# Creating a dynamic decision network"
   ]
  },
  {
   "cell_type": "markdown",
   "metadata": {},
   "source": [
    "## Example: Tiger problem"
   ]
  },
  {
   "cell_type": "code",
   "execution_count": 17,
   "metadata": {},
   "outputs": [
    {
     "data": {
      "image/svg+xml": "<?xml version=\"1.0\" encoding=\"utf-8\" standalone=\"no\"?>\n<!DOCTYPE svg PUBLIC \"-//W3C//DTD SVG 1.1//EN\"\n  \"http://www.w3.org/Graphics/SVG/1.1/DTD/svg11.dtd\">\n<svg height=\"231.84pt\" version=\"1.1\" viewBox=\"0 0 349.2 231.84\" width=\"349.2pt\" xmlns=\"http://www.w3.org/2000/svg\" xmlns:xlink=\"http://www.w3.org/1999/xlink\">\n <metadata>\n  <rdf:RDF xmlns:cc=\"http://creativecommons.org/ns#\" xmlns:dc=\"http://purl.org/dc/elements/1.1/\" xmlns:rdf=\"http://www.w3.org/1999/02/22-rdf-syntax-ns#\">\n   <cc:Work>\n    <dc:type rdf:resource=\"http://purl.org/dc/dcmitype/StillImage\"/>\n    <dc:date>2022-06-23T13:43:12.509666</dc:date>\n    <dc:format>image/svg+xml</dc:format>\n    <dc:creator>\n     <cc:Agent>\n      <dc:title>Matplotlib v3.4.3, https://matplotlib.org/</dc:title>\n     </cc:Agent>\n    </dc:creator>\n   </cc:Work>\n  </rdf:RDF>\n </metadata>\n <defs>\n  <style type=\"text/css\">*{stroke-linecap:butt;stroke-linejoin:round;}</style>\n </defs>\n <g id=\"figure_1\">\n  <g id=\"patch_1\">\n   <path d=\"M 0 231.84 \nL 349.2 231.84 \nL 349.2 0 \nL 0 0 \nz\n\" style=\"fill:none;\"/>\n  </g>\n  <g id=\"axes_1\">\n   <g id=\"patch_2\">\n    <path d=\"M 7.2 224.64 \nL 342 224.64 \nL 342 7.2 \nL 7.2 7.2 \nz\n\" style=\"fill:#ffffff;\"/>\n   </g>\n   <g id=\"patch_3\">\n    <path clip-path=\"url(#pb2cd418fd9)\" d=\"M 177.117954 121.105987 \nQ 177.481053 119.893778 176.881728 121.894627 \n\" style=\"fill:none;stroke:#000000;stroke-linecap:round;stroke-width:3;\"/>\n    <path clip-path=\"url(#pb2cd418fd9)\" d=\"M 173.205342 125.804126 \nL 176.881728 121.894627 \nL 177.803496 127.181435 \nL 173.205342 125.804126 \nz\n\" style=\"stroke:#000000;stroke-linecap:round;stroke-width:3;\"/>\n   </g>\n   <g id=\"patch_4\">\n    <path clip-path=\"url(#pb2cd418fd9)\" d=\"M 154.517113 133.029518 \nQ 107.047931 162.226768 62.435689 189.666778 \n\" style=\"fill:none;stroke:#000000;stroke-linecap:round;stroke-width:3;\"/>\n    <path clip-path=\"url(#pb2cd418fd9)\" d=\"M 67.781587 189.196279 \nL 62.435689 189.666778 \nL 65.266829 185.10776 \nL 67.781587 189.196279 \nz\n\" style=\"stroke:#000000;stroke-linecap:round;stroke-width:3;\"/>\n   </g>\n   <g id=\"patch_5\">\n    <path clip-path=\"url(#pb2cd418fd9)\" d=\"M 200.434151 103.196169 \nQ 245.395727 72.375098 287.590798 43.45046 \n\" style=\"fill:none;stroke:#000000;stroke-linecap:round;stroke-width:3;\"/>\n    <path clip-path=\"url(#pb2cd418fd9)\" d=\"M 282.274724 44.184865 \nL 287.590798 43.45046 \nL 284.988678 48.143963 \nL 282.274724 44.184865 \nz\n\" style=\"stroke:#000000;stroke-linecap:round;stroke-width:3;\"/>\n   </g>\n   <g id=\"patch_6\">\n    <path clip-path=\"url(#pb2cd418fd9)\" d=\"M 171.000978 110.97236 \nQ 174.422565 114.826965 175.617527 116.173155 \n\" style=\"fill:none;stroke:#000000;stroke-linecap:round;stroke-width:3;\"/>\n    <path clip-path=\"url(#pb2cd418fd9)\" d=\"M 174.225917 110.990161 \nL 175.617527 116.173155 \nL 170.636166 114.176647 \nL 174.225917 110.990161 \nz\n\" style=\"stroke:#000000;stroke-linecap:round;stroke-width:3;\"/>\n   </g>\n   <g id=\"patch_7\">\n    <path clip-path=\"url(#pb2cd418fd9)\" d=\"M 194.503442 96.914606 \nQ 241.972358 68.521568 286.562795 41.850262 \n\" style=\"fill:none;stroke:#000000;stroke-linecap:round;stroke-width:3;\"/>\n    <path clip-path=\"url(#pb2cd418fd9)\" d=\"M 281.211481 42.254533 \nL 286.562795 41.850262 \nL 283.675423 46.373876 \nL 281.211481 42.254533 \nz\n\" style=\"stroke:#000000;stroke-linecap:round;stroke-width:3;\"/>\n   </g>\n   <g id=\"patch_8\">\n    <path clip-path=\"url(#pb2cd418fd9)\" d=\"M 148.603961 126.72926 \nQ 103.628218 158.370897 61.39571 188.082596 \n\" style=\"fill:none;stroke:#000000;stroke-linecap:round;stroke-width:3;\"/>\n    <path clip-path=\"url(#pb2cd418fd9)\" d=\"M 66.70246 187.283591 \nL 61.39571 188.082596 \nL 63.940556 183.357793 \nL 66.70246 187.283591 \nz\n\" style=\"stroke:#000000;stroke-linecap:round;stroke-width:3;\"/>\n   </g>\n   <g id=\"matplotlib.axis_1\">\n    <g id=\"xtick_1\"/>\n    <g id=\"xtick_2\"/>\n    <g id=\"xtick_3\"/>\n    <g id=\"xtick_4\"/>\n    <g id=\"xtick_5\"/>\n   </g>\n   <g id=\"matplotlib.axis_2\">\n    <g id=\"ytick_1\"/>\n    <g id=\"ytick_2\"/>\n    <g id=\"ytick_3\"/>\n    <g id=\"ytick_4\"/>\n    <g id=\"ytick_5\"/>\n    <g id=\"ytick_6\"/>\n    <g id=\"ytick_7\"/>\n    <g id=\"ytick_8\"/>\n    <g id=\"ytick_9\"/>\n   </g>\n   <g id=\"PathCollection_1\">\n    <defs>\n     <path d=\"M 0 27.386128 \nC 7.262886 27.386128 14.229281 24.500553 19.364917 19.364917 \nC 24.500553 14.229281 27.386128 7.262886 27.386128 0 \nC 27.386128 -7.262886 24.500553 -14.229281 19.364917 -19.364917 \nC 14.229281 -24.500553 7.262886 -27.386128 0 -27.386128 \nC -7.262886 -27.386128 -14.229281 -24.500553 -19.364917 -19.364917 \nC -24.500553 -14.229281 -27.386128 -7.262886 -27.386128 0 \nC -27.386128 7.262886 -24.500553 14.229281 -19.364917 19.364917 \nC -14.229281 24.500553 -7.262886 27.386128 0 27.386128 \nz\n\" id=\"m07a0a411d3\" style=\"stroke:#ffa500;\"/>\n    </defs>\n    <g clip-path=\"url(#pb2cd418fd9)\">\n     <use style=\"fill:#ffa500;stroke:#ffa500;\" x=\"169.259712\" xlink:href=\"#m07a0a411d3\" y=\"147.340774\"/>\n     <use style=\"fill:#ffa500;stroke:#ffa500;\" x=\"177.844152\" xlink:href=\"#m07a0a411d3\" y=\"118.681569\"/>\n     <use style=\"fill:#ffa500;stroke:#ffa500;\" x=\"36.252893\" xlink:href=\"#m07a0a411d3\" y=\"205.77124\"/>\n     <use style=\"fill:#ffa500;stroke:#ffa500;\" x=\"312.947107\" xlink:href=\"#m07a0a411d3\" y=\"26.06876\"/>\n     <use style=\"fill:#ffa500;stroke:#ffa500;\" x=\"171.000978\" xlink:href=\"#m07a0a411d3\" y=\"110.97236\"/>\n    </g>\n   </g>\n   <g id=\"patch_9\">\n    <path d=\"M 7.2 224.64 \nL 7.2 7.2 \n\" style=\"fill:none;stroke:#000000;stroke-linecap:square;stroke-linejoin:miter;stroke-width:0.8;\"/>\n   </g>\n   <g id=\"patch_10\">\n    <path d=\"M 342 224.64 \nL 342 7.2 \n\" style=\"fill:none;stroke:#000000;stroke-linecap:square;stroke-linejoin:miter;stroke-width:0.8;\"/>\n   </g>\n   <g id=\"patch_11\">\n    <path d=\"M 7.2 224.64 \nL 342 224.64 \n\" style=\"fill:none;stroke:#000000;stroke-linecap:square;stroke-linejoin:miter;stroke-width:0.8;\"/>\n   </g>\n   <g id=\"patch_12\">\n    <path d=\"M 7.2 7.2 \nL 342 7.2 \n\" style=\"fill:none;stroke:#000000;stroke-linecap:square;stroke-linejoin:miter;stroke-width:0.8;\"/>\n   </g>\n   <g id=\"text_1\">\n    <g clip-path=\"url(#pb2cd418fd9)\">\n     <!-- ('State', 0) -->\n     <g transform=\"translate(137.766274 150.652024)scale(0.12 -0.12)\">\n      <defs>\n       <path d=\"M 1984 4856 \nQ 1566 4138 1362 3434 \nQ 1159 2731 1159 2009 \nQ 1159 1288 1364 580 \nQ 1569 -128 1984 -844 \nL 1484 -844 \nQ 1016 -109 783 600 \nQ 550 1309 550 2009 \nQ 550 2706 781 3412 \nQ 1013 4119 1484 4856 \nL 1984 4856 \nz\n\" id=\"DejaVuSans-28\" transform=\"scale(0.015625)\"/>\n       <path d=\"M 1147 4666 \nL 1147 2931 \nL 616 2931 \nL 616 4666 \nL 1147 4666 \nz\n\" id=\"DejaVuSans-27\" transform=\"scale(0.015625)\"/>\n       <path d=\"M 3425 4513 \nL 3425 3897 \nQ 3066 4069 2747 4153 \nQ 2428 4238 2131 4238 \nQ 1616 4238 1336 4038 \nQ 1056 3838 1056 3469 \nQ 1056 3159 1242 3001 \nQ 1428 2844 1947 2747 \nL 2328 2669 \nQ 3034 2534 3370 2195 \nQ 3706 1856 3706 1288 \nQ 3706 609 3251 259 \nQ 2797 -91 1919 -91 \nQ 1588 -91 1214 -16 \nQ 841 59 441 206 \nL 441 856 \nQ 825 641 1194 531 \nQ 1563 422 1919 422 \nQ 2459 422 2753 634 \nQ 3047 847 3047 1241 \nQ 3047 1584 2836 1778 \nQ 2625 1972 2144 2069 \nL 1759 2144 \nQ 1053 2284 737 2584 \nQ 422 2884 422 3419 \nQ 422 4038 858 4394 \nQ 1294 4750 2059 4750 \nQ 2388 4750 2728 4690 \nQ 3069 4631 3425 4513 \nz\n\" id=\"DejaVuSans-53\" transform=\"scale(0.015625)\"/>\n       <path d=\"M 1172 4494 \nL 1172 3500 \nL 2356 3500 \nL 2356 3053 \nL 1172 3053 \nL 1172 1153 \nQ 1172 725 1289 603 \nQ 1406 481 1766 481 \nL 2356 481 \nL 2356 0 \nL 1766 0 \nQ 1100 0 847 248 \nQ 594 497 594 1153 \nL 594 3053 \nL 172 3053 \nL 172 3500 \nL 594 3500 \nL 594 4494 \nL 1172 4494 \nz\n\" id=\"DejaVuSans-74\" transform=\"scale(0.015625)\"/>\n       <path d=\"M 2194 1759 \nQ 1497 1759 1228 1600 \nQ 959 1441 959 1056 \nQ 959 750 1161 570 \nQ 1363 391 1709 391 \nQ 2188 391 2477 730 \nQ 2766 1069 2766 1631 \nL 2766 1759 \nL 2194 1759 \nz\nM 3341 1997 \nL 3341 0 \nL 2766 0 \nL 2766 531 \nQ 2569 213 2275 61 \nQ 1981 -91 1556 -91 \nQ 1019 -91 701 211 \nQ 384 513 384 1019 \nQ 384 1609 779 1909 \nQ 1175 2209 1959 2209 \nL 2766 2209 \nL 2766 2266 \nQ 2766 2663 2505 2880 \nQ 2244 3097 1772 3097 \nQ 1472 3097 1187 3025 \nQ 903 2953 641 2809 \nL 641 3341 \nQ 956 3463 1253 3523 \nQ 1550 3584 1831 3584 \nQ 2591 3584 2966 3190 \nQ 3341 2797 3341 1997 \nz\n\" id=\"DejaVuSans-61\" transform=\"scale(0.015625)\"/>\n       <path d=\"M 3597 1894 \nL 3597 1613 \nL 953 1613 \nQ 991 1019 1311 708 \nQ 1631 397 2203 397 \nQ 2534 397 2845 478 \nQ 3156 559 3463 722 \nL 3463 178 \nQ 3153 47 2828 -22 \nQ 2503 -91 2169 -91 \nQ 1331 -91 842 396 \nQ 353 884 353 1716 \nQ 353 2575 817 3079 \nQ 1281 3584 2069 3584 \nQ 2775 3584 3186 3129 \nQ 3597 2675 3597 1894 \nz\nM 3022 2063 \nQ 3016 2534 2758 2815 \nQ 2500 3097 2075 3097 \nQ 1594 3097 1305 2825 \nQ 1016 2553 972 2059 \nL 3022 2063 \nz\n\" id=\"DejaVuSans-65\" transform=\"scale(0.015625)\"/>\n       <path d=\"M 750 794 \nL 1409 794 \nL 1409 256 \nL 897 -744 \nL 494 -744 \nL 750 256 \nL 750 794 \nz\n\" id=\"DejaVuSans-2c\" transform=\"scale(0.015625)\"/>\n       <path id=\"DejaVuSans-20\" transform=\"scale(0.015625)\"/>\n       <path d=\"M 2034 4250 \nQ 1547 4250 1301 3770 \nQ 1056 3291 1056 2328 \nQ 1056 1369 1301 889 \nQ 1547 409 2034 409 \nQ 2525 409 2770 889 \nQ 3016 1369 3016 2328 \nQ 3016 3291 2770 3770 \nQ 2525 4250 2034 4250 \nz\nM 2034 4750 \nQ 2819 4750 3233 4129 \nQ 3647 3509 3647 2328 \nQ 3647 1150 3233 529 \nQ 2819 -91 2034 -91 \nQ 1250 -91 836 529 \nQ 422 1150 422 2328 \nQ 422 3509 836 4129 \nQ 1250 4750 2034 4750 \nz\n\" id=\"DejaVuSans-30\" transform=\"scale(0.015625)\"/>\n       <path d=\"M 513 4856 \nL 1013 4856 \nQ 1481 4119 1714 3412 \nQ 1947 2706 1947 2009 \nQ 1947 1309 1714 600 \nQ 1481 -109 1013 -844 \nL 513 -844 \nQ 928 -128 1133 580 \nQ 1338 1288 1338 2009 \nQ 1338 2731 1133 3434 \nQ 928 4138 513 4856 \nz\n\" id=\"DejaVuSans-29\" transform=\"scale(0.015625)\"/>\n      </defs>\n      <use xlink:href=\"#DejaVuSans-28\"/>\n      <use x=\"39.013672\" xlink:href=\"#DejaVuSans-27\"/>\n      <use x=\"66.503906\" xlink:href=\"#DejaVuSans-53\"/>\n      <use x=\"129.980469\" xlink:href=\"#DejaVuSans-74\"/>\n      <use x=\"169.189453\" xlink:href=\"#DejaVuSans-61\"/>\n      <use x=\"230.46875\" xlink:href=\"#DejaVuSans-74\"/>\n      <use x=\"269.677734\" xlink:href=\"#DejaVuSans-65\"/>\n      <use x=\"331.201172\" xlink:href=\"#DejaVuSans-27\"/>\n      <use x=\"358.691406\" xlink:href=\"#DejaVuSans-2c\"/>\n      <use x=\"390.478516\" xlink:href=\"#DejaVuSans-20\"/>\n      <use x=\"422.265625\" xlink:href=\"#DejaVuSans-30\"/>\n      <use x=\"485.888672\" xlink:href=\"#DejaVuSans-29\"/>\n     </g>\n    </g>\n   </g>\n   <g id=\"text_2\">\n    <g clip-path=\"url(#pb2cd418fd9)\">\n     <!-- ('State', 1) -->\n     <g transform=\"translate(146.350714 121.992819)scale(0.12 -0.12)\">\n      <defs>\n       <path d=\"M 794 531 \nL 1825 531 \nL 1825 4091 \nL 703 3866 \nL 703 4441 \nL 1819 4666 \nL 2450 4666 \nL 2450 531 \nL 3481 531 \nL 3481 0 \nL 794 0 \nL 794 531 \nz\n\" id=\"DejaVuSans-31\" transform=\"scale(0.015625)\"/>\n      </defs>\n      <use xlink:href=\"#DejaVuSans-28\"/>\n      <use x=\"39.013672\" xlink:href=\"#DejaVuSans-27\"/>\n      <use x=\"66.503906\" xlink:href=\"#DejaVuSans-53\"/>\n      <use x=\"129.980469\" xlink:href=\"#DejaVuSans-74\"/>\n      <use x=\"169.189453\" xlink:href=\"#DejaVuSans-61\"/>\n      <use x=\"230.46875\" xlink:href=\"#DejaVuSans-74\"/>\n      <use x=\"269.677734\" xlink:href=\"#DejaVuSans-65\"/>\n      <use x=\"331.201172\" xlink:href=\"#DejaVuSans-27\"/>\n      <use x=\"358.691406\" xlink:href=\"#DejaVuSans-2c\"/>\n      <use x=\"390.478516\" xlink:href=\"#DejaVuSans-20\"/>\n      <use x=\"422.265625\" xlink:href=\"#DejaVuSans-31\"/>\n      <use x=\"485.888672\" xlink:href=\"#DejaVuSans-29\"/>\n     </g>\n    </g>\n   </g>\n   <g id=\"text_3\">\n    <g clip-path=\"url(#pb2cd418fd9)\">\n     <!-- ('Evidence', 1) -->\n     <g transform=\"translate(-6.662107 209.08249)scale(0.12 -0.12)\">\n      <defs>\n       <path d=\"M 628 4666 \nL 3578 4666 \nL 3578 4134 \nL 1259 4134 \nL 1259 2753 \nL 3481 2753 \nL 3481 2222 \nL 1259 2222 \nL 1259 531 \nL 3634 531 \nL 3634 0 \nL 628 0 \nL 628 4666 \nz\n\" id=\"DejaVuSans-45\" transform=\"scale(0.015625)\"/>\n       <path d=\"M 191 3500 \nL 800 3500 \nL 1894 563 \nL 2988 3500 \nL 3597 3500 \nL 2284 0 \nL 1503 0 \nL 191 3500 \nz\n\" id=\"DejaVuSans-76\" transform=\"scale(0.015625)\"/>\n       <path d=\"M 603 3500 \nL 1178 3500 \nL 1178 0 \nL 603 0 \nL 603 3500 \nz\nM 603 4863 \nL 1178 4863 \nL 1178 4134 \nL 603 4134 \nL 603 4863 \nz\n\" id=\"DejaVuSans-69\" transform=\"scale(0.015625)\"/>\n       <path d=\"M 2906 2969 \nL 2906 4863 \nL 3481 4863 \nL 3481 0 \nL 2906 0 \nL 2906 525 \nQ 2725 213 2448 61 \nQ 2172 -91 1784 -91 \nQ 1150 -91 751 415 \nQ 353 922 353 1747 \nQ 353 2572 751 3078 \nQ 1150 3584 1784 3584 \nQ 2172 3584 2448 3432 \nQ 2725 3281 2906 2969 \nz\nM 947 1747 \nQ 947 1113 1208 752 \nQ 1469 391 1925 391 \nQ 2381 391 2643 752 \nQ 2906 1113 2906 1747 \nQ 2906 2381 2643 2742 \nQ 2381 3103 1925 3103 \nQ 1469 3103 1208 2742 \nQ 947 2381 947 1747 \nz\n\" id=\"DejaVuSans-64\" transform=\"scale(0.015625)\"/>\n       <path d=\"M 3513 2113 \nL 3513 0 \nL 2938 0 \nL 2938 2094 \nQ 2938 2591 2744 2837 \nQ 2550 3084 2163 3084 \nQ 1697 3084 1428 2787 \nQ 1159 2491 1159 1978 \nL 1159 0 \nL 581 0 \nL 581 3500 \nL 1159 3500 \nL 1159 2956 \nQ 1366 3272 1645 3428 \nQ 1925 3584 2291 3584 \nQ 2894 3584 3203 3211 \nQ 3513 2838 3513 2113 \nz\n\" id=\"DejaVuSans-6e\" transform=\"scale(0.015625)\"/>\n       <path d=\"M 3122 3366 \nL 3122 2828 \nQ 2878 2963 2633 3030 \nQ 2388 3097 2138 3097 \nQ 1578 3097 1268 2742 \nQ 959 2388 959 1747 \nQ 959 1106 1268 751 \nQ 1578 397 2138 397 \nQ 2388 397 2633 464 \nQ 2878 531 3122 666 \nL 3122 134 \nQ 2881 22 2623 -34 \nQ 2366 -91 2075 -91 \nQ 1284 -91 818 406 \nQ 353 903 353 1747 \nQ 353 2603 823 3093 \nQ 1294 3584 2113 3584 \nQ 2378 3584 2631 3529 \nQ 2884 3475 3122 3366 \nz\n\" id=\"DejaVuSans-63\" transform=\"scale(0.015625)\"/>\n      </defs>\n      <use xlink:href=\"#DejaVuSans-28\"/>\n      <use x=\"39.013672\" xlink:href=\"#DejaVuSans-27\"/>\n      <use x=\"66.503906\" xlink:href=\"#DejaVuSans-45\"/>\n      <use x=\"129.6875\" xlink:href=\"#DejaVuSans-76\"/>\n      <use x=\"188.867188\" xlink:href=\"#DejaVuSans-69\"/>\n      <use x=\"216.650391\" xlink:href=\"#DejaVuSans-64\"/>\n      <use x=\"280.126953\" xlink:href=\"#DejaVuSans-65\"/>\n      <use x=\"341.650391\" xlink:href=\"#DejaVuSans-6e\"/>\n      <use x=\"405.029297\" xlink:href=\"#DejaVuSans-63\"/>\n      <use x=\"460.009766\" xlink:href=\"#DejaVuSans-65\"/>\n      <use x=\"521.533203\" xlink:href=\"#DejaVuSans-27\"/>\n      <use x=\"549.023438\" xlink:href=\"#DejaVuSans-2c\"/>\n      <use x=\"580.810547\" xlink:href=\"#DejaVuSans-20\"/>\n      <use x=\"612.597656\" xlink:href=\"#DejaVuSans-31\"/>\n      <use x=\"676.220703\" xlink:href=\"#DejaVuSans-29\"/>\n     </g>\n    </g>\n   </g>\n   <g id=\"text_4\">\n    <g clip-path=\"url(#pb2cd418fd9)\">\n     <!-- ('Reward', 1) -->\n     <g transform=\"translate(274.990545 29.38001)scale(0.12 -0.12)\">\n      <defs>\n       <path d=\"M 2841 2188 \nQ 3044 2119 3236 1894 \nQ 3428 1669 3622 1275 \nL 4263 0 \nL 3584 0 \nL 2988 1197 \nQ 2756 1666 2539 1819 \nQ 2322 1972 1947 1972 \nL 1259 1972 \nL 1259 0 \nL 628 0 \nL 628 4666 \nL 2053 4666 \nQ 2853 4666 3247 4331 \nQ 3641 3997 3641 3322 \nQ 3641 2881 3436 2590 \nQ 3231 2300 2841 2188 \nz\nM 1259 4147 \nL 1259 2491 \nL 2053 2491 \nQ 2509 2491 2742 2702 \nQ 2975 2913 2975 3322 \nQ 2975 3731 2742 3939 \nQ 2509 4147 2053 4147 \nL 1259 4147 \nz\n\" id=\"DejaVuSans-52\" transform=\"scale(0.015625)\"/>\n       <path d=\"M 269 3500 \nL 844 3500 \nL 1563 769 \nL 2278 3500 \nL 2956 3500 \nL 3675 769 \nL 4391 3500 \nL 4966 3500 \nL 4050 0 \nL 3372 0 \nL 2619 2869 \nL 1863 0 \nL 1184 0 \nL 269 3500 \nz\n\" id=\"DejaVuSans-77\" transform=\"scale(0.015625)\"/>\n       <path d=\"M 2631 2963 \nQ 2534 3019 2420 3045 \nQ 2306 3072 2169 3072 \nQ 1681 3072 1420 2755 \nQ 1159 2438 1159 1844 \nL 1159 0 \nL 581 0 \nL 581 3500 \nL 1159 3500 \nL 1159 2956 \nQ 1341 3275 1631 3429 \nQ 1922 3584 2338 3584 \nQ 2397 3584 2469 3576 \nQ 2541 3569 2628 3553 \nL 2631 2963 \nz\n\" id=\"DejaVuSans-72\" transform=\"scale(0.015625)\"/>\n      </defs>\n      <use xlink:href=\"#DejaVuSans-28\"/>\n      <use x=\"39.013672\" xlink:href=\"#DejaVuSans-27\"/>\n      <use x=\"66.503906\" xlink:href=\"#DejaVuSans-52\"/>\n      <use x=\"131.486328\" xlink:href=\"#DejaVuSans-65\"/>\n      <use x=\"193.009766\" xlink:href=\"#DejaVuSans-77\"/>\n      <use x=\"274.796875\" xlink:href=\"#DejaVuSans-61\"/>\n      <use x=\"336.076172\" xlink:href=\"#DejaVuSans-72\"/>\n      <use x=\"375.439453\" xlink:href=\"#DejaVuSans-64\"/>\n      <use x=\"438.916016\" xlink:href=\"#DejaVuSans-27\"/>\n      <use x=\"466.40625\" xlink:href=\"#DejaVuSans-2c\"/>\n      <use x=\"498.193359\" xlink:href=\"#DejaVuSans-20\"/>\n      <use x=\"529.980469\" xlink:href=\"#DejaVuSans-31\"/>\n      <use x=\"593.603516\" xlink:href=\"#DejaVuSans-29\"/>\n     </g>\n    </g>\n   </g>\n   <g id=\"text_5\">\n    <g clip-path=\"url(#pb2cd418fd9)\">\n     <!-- ('Action', 0) -->\n     <g transform=\"translate(136.598478 114.28361)scale(0.12 -0.12)\">\n      <defs>\n       <path d=\"M 2188 4044 \nL 1331 1722 \nL 3047 1722 \nL 2188 4044 \nz\nM 1831 4666 \nL 2547 4666 \nL 4325 0 \nL 3669 0 \nL 3244 1197 \nL 1141 1197 \nL 716 0 \nL 50 0 \nL 1831 4666 \nz\n\" id=\"DejaVuSans-41\" transform=\"scale(0.015625)\"/>\n       <path d=\"M 1959 3097 \nQ 1497 3097 1228 2736 \nQ 959 2375 959 1747 \nQ 959 1119 1226 758 \nQ 1494 397 1959 397 \nQ 2419 397 2687 759 \nQ 2956 1122 2956 1747 \nQ 2956 2369 2687 2733 \nQ 2419 3097 1959 3097 \nz\nM 1959 3584 \nQ 2709 3584 3137 3096 \nQ 3566 2609 3566 1747 \nQ 3566 888 3137 398 \nQ 2709 -91 1959 -91 \nQ 1206 -91 779 398 \nQ 353 888 353 1747 \nQ 353 2609 779 3096 \nQ 1206 3584 1959 3584 \nz\n\" id=\"DejaVuSans-6f\" transform=\"scale(0.015625)\"/>\n      </defs>\n      <use xlink:href=\"#DejaVuSans-28\"/>\n      <use x=\"39.013672\" xlink:href=\"#DejaVuSans-27\"/>\n      <use x=\"66.503906\" xlink:href=\"#DejaVuSans-41\"/>\n      <use x=\"133.162109\" xlink:href=\"#DejaVuSans-63\"/>\n      <use x=\"188.142578\" xlink:href=\"#DejaVuSans-74\"/>\n      <use x=\"227.351562\" xlink:href=\"#DejaVuSans-69\"/>\n      <use x=\"255.134766\" xlink:href=\"#DejaVuSans-6f\"/>\n      <use x=\"316.316406\" xlink:href=\"#DejaVuSans-6e\"/>\n      <use x=\"379.695312\" xlink:href=\"#DejaVuSans-27\"/>\n      <use x=\"407.185547\" xlink:href=\"#DejaVuSans-2c\"/>\n      <use x=\"438.972656\" xlink:href=\"#DejaVuSans-20\"/>\n      <use x=\"470.759766\" xlink:href=\"#DejaVuSans-30\"/>\n      <use x=\"534.382812\" xlink:href=\"#DejaVuSans-29\"/>\n     </g>\n    </g>\n   </g>\n  </g>\n </g>\n <defs>\n  <clipPath id=\"pb2cd418fd9\">\n   <rect height=\"217.44\" width=\"334.8\" x=\"7.2\" y=\"7.2\"/>\n  </clipPath>\n </defs>\n</svg>\n",
      "text/plain": [
       "<Figure size 432x288 with 1 Axes>"
      ]
     },
     "metadata": {},
     "output_type": "display_data"
    }
   ],
   "source": [
    "# Create nodes\n",
    "s0 = DiscreteNode((\"State\", 0), node_type=\"state\", value_space=[0,1])\n",
    "s1 = DiscreteNode((\"State\", 1), node_type=\"state\", value_space=[0,1])\n",
    "o1 = DiscreteNode((\"Evidence\", 1), node_type=\"evidence\", value_space=[0,2])\n",
    "r1 = DiscreteNode((\"Reward\", 1), node_type=\"reward\", value_space=[-100,-1,10])\n",
    "a0 = DiscreteNode((\"Action\", 0), node_type=\"action\", value_space=[0,1,2])\n",
    "\n",
    "# Create the initial DDN structure\n",
    "ddn = DecisionNetwork()\n",
    "ddn.add_nodes([s0, s1, o1, r1, a0])\n",
    "ddn.add_edges([\n",
    "    ((\"State\", 0), (\"State\", 1)), \n",
    "    ((\"Action\", 0), (\"State\", 1)), \n",
    "    ((\"Action\", 0), (\"Reward\", 1)),\n",
    "    ((\"Action\", 0), (\"Evidence\", 1)),\n",
    "    ((\"State\", 1), (\"Evidence\", 1)), \n",
    "    ((\"State\", 1), (\"Reward\", 1))\n",
    "])\n",
    "ddn.draw()"
   ]
  },
  {
   "cell_type": "code",
   "execution_count": 18,
   "metadata": {},
   "outputs": [],
   "source": [
    "# Add data for node State 0\n",
    "data = {\n",
    "    (\"State\", 0): [0,1], \n",
    "    \"Prob\": [0.5,0.5]\n",
    "}\n",
    "ddn.add_pt((\"State\", 0), data)\n",
    "\n",
    "# Add data for node State 1\n",
    "data = {\n",
    "    (\"State\", 0): [0,0,0,0,0,0,1,1,1,1,1,1], \n",
    "    (\"Action\", 0): [0,0,1,1,2,2,0,0,1,1,2,2], \n",
    "    (\"State\", 1): [0,1,0,1,0,1,0,1,0,1,0,1], \n",
    "    \"Prob\": [1,0,0.5,0.5,0.5,0.5,0,1,0.5,0.5,0.5,0.5]\n",
    "}\n",
    "ddn.add_pt((\"State\", 1), data)\n",
    "\n",
    "# Add data for node Evidence\n",
    "data = {\n",
    "    (\"Action\", 0): [0,0,0,0,1,1,1,1,2,2,2,2], \n",
    "    (\"State\", 1): [0,0,1,1,0,0,1,1,0,0,1,1], \n",
    "    (\"Evidence\", 1): [0,1,0,1,0,1,0,1,0,1,0,1], \n",
    "    \"Prob\": [0.85,0.15,0.15,0.85,0.5,0.5,0.5,0.5,0.5,0.5,0.5,0.5]\n",
    "}\n",
    "ddn.add_pt((\"Evidence\", 1), data)\n",
    "\n",
    "# Add data for node Reward\n",
    "data = {\n",
    "    (\"Action\", 0): [0,0,0,0,0,0,1,1,1,1,1,1,2,2,2,2,2,2], \n",
    "    (\"State\", 1): [0,0,0,1,1,1,0,0,0,1,1,1,0,0,0,1,1,1], \n",
    "    (\"Reward\", 1): [-100,-1,10,-100,-1,10,-100,-1,10,-100,-1,10,-100,-1,10,-100,-1,10], \n",
    "    \"Prob\": [0,1,0,0,1,0,1,0,0,0,0,1,0,0,1,1,0,0]\n",
    "}\n",
    "ddn.add_pt((\"Reward\", 1), data)\n",
    "\n",
    "# Initialize ddn\n",
    "ddn.initialize()"
   ]
  },
  {
   "cell_type": "code",
   "execution_count": 19,
   "metadata": {},
   "outputs": [],
   "source": [
    "# Define tree parameters\n",
    "# horizon = 1\n",
    "# discount = 0.75\n",
    "# action_space = [0,1,2]\n",
    "# observation_space = [0,1]\n",
    "\n",
    "# Build the tree\n",
    "# tree = Tree(horizon, discount, action_space, observation_space)"
   ]
  },
  {
   "cell_type": "code",
   "execution_count": 20,
   "metadata": {},
   "outputs": [],
   "source": [
    "# ddn.node_map[(\"State\", 0)].get_pt()"
   ]
  },
  {
   "cell_type": "code",
   "execution_count": 21,
   "metadata": {},
   "outputs": [],
   "source": [
    "# tree.pomdp_lookahead(ddn, verbose=True)"
   ]
  },
  {
   "cell_type": "code",
   "execution_count": 22,
   "metadata": {},
   "outputs": [],
   "source": [
    "# time = 10\n",
    "# tree.online_planning(ddn, time, verbose=True)"
   ]
  }
 ],
 "metadata": {
  "kernelspec": {
   "display_name": "Python 3.9.7 ('Thesis')",
   "language": "python",
   "name": "python3"
  },
  "language_info": {
   "codemirror_mode": {
    "name": "ipython",
    "version": 3
   },
   "file_extension": ".py",
   "mimetype": "text/x-python",
   "name": "python",
   "nbconvert_exporter": "python",
   "pygments_lexer": "ipython3",
   "version": "3.9.7"
  },
  "vscode": {
   "interpreter": {
    "hash": "4667db92b50b909313b95f3efb82863da51d4adc6f7a2bee07386b4c13650d43"
   }
  }
 },
 "nbformat": 4,
 "nbformat_minor": 4
}
