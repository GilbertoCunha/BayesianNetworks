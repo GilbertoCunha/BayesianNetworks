{
 "cells": [
  {
   "cell_type": "code",
   "execution_count": 1,
   "id": "6eb75fa3-906c-4bdb-aad6-7fbad5129a1a",
   "metadata": {},
   "outputs": [],
   "source": [
    "from src.trees.nodes import TreeActionNode, TreeObservationNode, Tree"
   ]
  },
  {
   "cell_type": "markdown",
   "id": "ddd1560a-fda7-4d6e-83ea-1a027654bf76",
   "metadata": {},
   "source": [
    "## Instantiating the lookahead tree"
   ]
  },
  {
   "cell_type": "code",
   "execution_count": 2,
   "id": "5b310358-1cdd-47ba-a7a3-067eb54d8f7a",
   "metadata": {},
   "outputs": [],
   "source": [
    "# Define tree parameters\n",
    "horizon = 1\n",
    "discount = 0.8\n",
    "action_space = [0, 1]\n",
    "observation_space = [0, 1]\n",
    "root_observation = 0"
   ]
  },
  {
   "cell_type": "code",
   "execution_count": 3,
   "id": "b86897d9-5a4b-434e-8cb8-8ca7af24f9be",
   "metadata": {},
   "outputs": [
    {
     "name": "stdout",
     "output_type": "stream",
     "text": [
      "Value: 0 | Depth: 0\n",
      "Value: 0 | Depth: 1\n",
      "Value: 1 | Depth: 1\n",
      "Value: 0 | Depth: 2\n",
      "Value: 1 | Depth: 2\n",
      "Value: 0 | Depth: 2\n",
      "Value: 1 | Depth: 2\n"
     ]
    }
   ],
   "source": [
    "# Build the tree\n",
    "tree = Tree(horizon, discount, action_space, observation_space, root_observation)\n",
    "print(tree)"
   ]
  },
  {
   "cell_type": "code",
   "execution_count": null,
   "id": "c877b8f9-b157-496f-9e51-fe2d19417dc9",
   "metadata": {},
   "outputs": [],
   "source": []
  }
 ],
 "metadata": {
  "kernelspec": {
   "display_name": "Python 3 (ipykernel)",
   "language": "python",
   "name": "python3"
  },
  "language_info": {
   "codemirror_mode": {
    "name": "ipython",
    "version": 3
   },
   "file_extension": ".py",
   "mimetype": "text/x-python",
   "name": "python",
   "nbconvert_exporter": "python",
   "pygments_lexer": "ipython3",
   "version": "3.9.7"
  }
 },
 "nbformat": 4,
 "nbformat_minor": 5
}
