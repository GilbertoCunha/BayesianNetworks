{
 "cells": [
  {
   "cell_type": "code",
   "execution_count": 1,
   "metadata": {},
   "outputs": [],
   "source": [
    "from src.trees.nodes import TreeActionNode, TreeObservationNode, Tree"
   ]
  },
  {
   "cell_type": "markdown",
   "metadata": {},
   "source": [
    "## Instantiating the lookahead tree"
   ]
  },
  {
   "cell_type": "code",
   "execution_count": 2,
   "metadata": {},
   "outputs": [],
   "source": [
    "# Define tree parameters\n",
    "horizon = 1\n",
    "discount = 0.8\n",
    "action_space = [0, 1]\n",
    "observation_space = [0, 1]"
   ]
  },
  {
   "cell_type": "code",
   "execution_count": 3,
   "metadata": {},
   "outputs": [
    {
     "name": "stdout",
     "output_type": "stream",
     "text": [
      "Value: 0 | Depth: 0\n",
      "Value: 0 | Depth: 1\n",
      "Value: 1 | Depth: 1\n",
      "Value: 0 | Depth: 2\n",
      "Value: 1 | Depth: 2\n",
      "Value: 0 | Depth: 2\n",
      "Value: 1 | Depth: 2\n"
     ]
    }
   ],
   "source": [
    "# Build the tree\n",
    "tree = Tree(horizon, discount, action_space, observation_space)\n",
    "print(tree)"
   ]
  },
  {
   "cell_type": "code",
   "execution_count": null,
   "metadata": {},
   "outputs": [],
   "source": []
  }
 ],
 "metadata": {
  "kernelspec": {
   "display_name": "Python 3",
   "language": "python",
   "name": "python3"
  },
  "language_info": {
   "codemirror_mode": {
    "name": "ipython",
    "version": 3
   },
   "file_extension": ".py",
   "mimetype": "text/x-python",
   "name": "python",
   "nbconvert_exporter": "python",
   "pygments_lexer": "ipython3",
   "version": "3.8.3"
  }
 },
 "nbformat": 4,
 "nbformat_minor": 5
}
