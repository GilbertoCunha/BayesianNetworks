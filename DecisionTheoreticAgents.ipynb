{
 "cells": [
  {
   "cell_type": "code",
   "execution_count": 1,
   "metadata": {},
   "outputs": [],
   "source": [
    "from __future__ import annotations\n",
    "from typing import Type, Union\n",
    "import pandas as pd\n",
    "import numpy as np"
   ]
  },
  {
   "cell_type": "markdown",
   "metadata": {},
   "source": [
    "### Defining types"
   ]
  },
  {
   "cell_type": "code",
   "execution_count": 2,
   "metadata": {},
   "outputs": [],
   "source": [
    "Id = (str, int)\n",
    "Edge = (Id, Id)\n",
    "Node = Union[\"StateNode\", \"EvidenceNode\", \"ActionNode\", \"UtilityNode\"]"
   ]
  },
  {
   "cell_type": "markdown",
   "metadata": {},
   "source": [
    "### Node classes"
   ]
  },
  {
   "cell_type": "code",
   "execution_count": 3,
   "metadata": {},
   "outputs": [],
   "source": [
    "class StateNode:\n",
    "    def __init__(self, name: str, time: int):\n",
    "        self.id: Id = (name, time)\n",
    "            \n",
    "    def get_name(self):\n",
    "        return self.id[1]\n",
    "            \n",
    "    def get_time(self):\n",
    "        return self.id[1]\n",
    "\n",
    "    def add_pt(self, pt: dict[Union[Id, str], list[int]]):\n",
    "        self.pt = pd.DataFrame(pt)\n",
    "        \n",
    "    def get_sample(self, sample: dict[Id, int]) -> pd.DataFrame:\n",
    "        # Get the row relative to the current sample where current node is false\n",
    "        sample = {k: v for k, v in sample.items() if (k in self.pt) and (k != self.id)}\n",
    "        df = self.pt\n",
    "        for node_id in sample:\n",
    "            df = df.loc[df[node_id] == sample[node_id]]\n",
    "        df = df.loc[df[self.id] == 0]\n",
    "        \n",
    "        # Generate random number\n",
    "        number = np.random.uniform()\n",
    "        r = int(np.random.uniform() > df[\"Prob\"])\n",
    "        \n",
    "        return r\n",
    "        \n",
    "    \n",
    "class EvidenceNode(StateNode):\n",
    "    pass\n",
    "\n",
    "\n",
    "class ActionNode(StateNode):\n",
    "    def __init__(self, name: str, time: int, actions: list[int]):\n",
    "        super().__init__(name, time)\n",
    "        self.actions = actions\n",
    "        \n",
    "    def add_value(self, value: int):\n",
    "        self.pt = pd.DataFrame({self.id: [value, 1-value], \"Prob\": [1, 0]})\n",
    "\n",
    "\n",
    "class UtilityNode(StateNode):\n",
    "    pass"
   ]
  },
  {
   "cell_type": "markdown",
   "metadata": {},
   "source": [
    "## Dynamic Decision Network Class"
   ]
  },
  {
   "cell_type": "code",
   "execution_count": 4,
   "metadata": {},
   "outputs": [],
   "source": [
    "class DynamicDecisionNetwork:\n",
    "    def __init__(self):\n",
    "        self.node_map: dict[Id, Node] = {}\n",
    "        self.graph: dict[Id, [Id]] = {}\n",
    "        self.knowns: list[Id, int] = {}\n",
    "        self.time: int = 0\n",
    "        \n",
    "    def add_nodes(self, nodes: list[Node]):\n",
    "        for node in nodes:\n",
    "            if node.id not in self.node_map:\n",
    "                self.node_map[node.id] = node\n",
    "                self.graph[node.id] = []\n",
    "        \n",
    "    def add_edges(self, edges: list[Edge]):\n",
    "        for edge in edges:\n",
    "            s, d = edge\n",
    "            if s not in self.graph:\n",
    "                self.graph[s] = []\n",
    "            self.graph[s].append(d)\n",
    "            \n",
    "    def is_leaf(self, node_id: Id):\n",
    "        # For a node to be leaf it cant have children\n",
    "        return len(self.graph[node_id]) == 0\n",
    "    \n",
    "    def is_root(self, node_id: Id):\n",
    "        # For a node to be root it cant have parents\n",
    "        parents = []\n",
    "        for key in self.graph:\n",
    "            if node_id in self.graph[key]:\n",
    "                parents.append(key)\n",
    "        return len(parents) == 0\n",
    "        \n",
    "    def get_edges(self):\n",
    "        edges = []\n",
    "        for s in self.graph:\n",
    "            for d in self.graph[s]:\n",
    "                edges.append((s, d))\n",
    "        return edges\n",
    "        \n",
    "    def add_pt(self, node_id: Id, pt: dict[Union[Id, str], int]):\n",
    "        self.node_map[node_id].add_pt(pt)\n",
    "        \n",
    "    def get_nodes_by_type(self, node_type: Type(Node)) -> list[Id]:\n",
    "        return [k for k, v in self.node_map.items() if type(v) is node_type]\n",
    "    \n",
    "    def get_nodes_by_type_and_time(self, node_type: Type(Node), time: int) -> list[Id]:\n",
    "        return [node for node in self.get_nodes_by_type(node_type) if self.node_map[node].get_time() == time]\n",
    "    \n",
    "    def query(self, query: list[Id], evidence: dict[Id, int] = {}, n_samples: int = 1000) -> pd.DataFrame:\n",
    "        \n",
    "        # Add value of actions to the nodes\n",
    "        action_nodes = [k for k in evidence if type(self.node_map[k]) is ActionNode]\n",
    "        for node in action_nodes:\n",
    "            self.node_map[node].add_value(evidence[node])\n",
    "        \n",
    "        # Create empty sampling dictionary\n",
    "        sample_dict = {node_id: [] for node_id in self.node_map}\n",
    "        \n",
    "        # Create multiple samples\n",
    "        cur_samples = 0\n",
    "        while (cur_samples < n_samples):\n",
    "            \n",
    "            # Create empty sample\n",
    "            sample = {}\n",
    "            queue = [k for k in self.node_map if self.is_root(k)]\n",
    "            \n",
    "            # Sample a result from each root node\n",
    "            while len(queue) != 0:\n",
    "                \n",
    "                # Sample from head of queue\n",
    "                sample[queue[0]] = self.node_map[queue[0]].get_sample(sample)\n",
    "                \n",
    "                # Add head's children to queue\n",
    "                queue += self.graph[queue[0]]\n",
    "                \n",
    "                # Remove head from queue\n",
    "                queue.pop(0)\n",
    "            \n",
    "            # Pass sample results to sample_dict if it matches with evidence\n",
    "            matches = [sample[node_id] == evidence[node_id] for node_id in evidence]\n",
    "            if all(matches):\n",
    "                for node_id in sample_dict:\n",
    "                    sample_dict[node_id].append(sample[node_id])\n",
    "                cur_samples += 1\n",
    "                \n",
    "        # Turn result into probability table\n",
    "        df = pd.DataFrame(sample_dict)\n",
    "        df = df.value_counts(normalize=True).to_frame(\"Prob\")\n",
    "        \n",
    "        # Group over query variables and sum over all other variables\n",
    "        df = df.groupby(query).sum().reset_index()\n",
    "        \n",
    "        return df\n",
    "    \n",
    "    def initialize(self):\n",
    "        # Get all evidence and reward nodes ids\n",
    "        init_nodes = self.get_nodes_by_type(EvidenceNode) + self.get_nodes_by_type(UtilityNode)\n",
    "        \n",
    "        # Get a single sample from the initial network\n",
    "        self.node_map[(\"Action\", 0)].add_value(1) # FIX THIS\n",
    "        sample = self.query(query=init_nodes, n_samples=1)\n",
    "        sample = {col: int(sample[col]) for col in sample if col != \"Prob\"}\n",
    "        self.knowns = sample\n",
    "        \n",
    "        # Change nodes X0 and X1 to X1 and X2\n",
    "        X0_X1_ids = self.get_nodes_by_type_and_time(StateNode, 0) + self.get_nodes_by_type_and_time(StateNode, 1)\n",
    "        for (n, t) in X0_X1_ids:\n",
    "            self.graph[(n, t+1)] = self.graph.pop((n, t))\n",
    "            \n",
    "        # Add vertices A1, E2 and R2\n",
    "        A_E_R_ids = self.get_nodes_by_type(ActionNode) + self.get_nodes_by_type(EvidenceNode) + self.get_nodes_by_type(UtilityNode)\n",
    "        self.add_nodes([(n, t+1) for (n, t) in A_E_R_ids])\n",
    "        \n",
    "        # Add edges (A1, X2) as replica of (A0, X1)\n",
    "        node_type_filter = lambda nid, ntype: type(self.node_map[nid]) == ntype\n",
    "        A0_X1_edges = [(s, d) for (s, d) in self.get_edges() if (node_type_filter(s, ActionNode) and node_type_filter(d, StateNode))]\n",
    "        A1_X2_edges = [((s, ts+1), (d, td+1)) for ((s, ts), (d, td)) in A0_X1_edges]\n",
    "        self.add_edges(A1_X2_edges)\n",
    "        \n",
    "        # Add edges (X2, E2) as replica of (X1, E1)\n",
    "        X1_E1_edges = [(s, d) for (s, d) in self.get_edges() if (node_type_filter(s, StateNode) and node_type_filter(d, EvidenceNode))]\n",
    "        X2_E2_edges = [((s, ts+1), (d, td+1)) for ((s, ts), (d, td)) in X1_E1_edges]\n",
    "        self.add_edges(X2_E2_edges)\n",
    "        \n",
    "        # Add edges (X2, R2) as replica of (X1, R1)\n",
    "        X1_R1_edges = [(s, d) for (s, d) in self.get_edges() if (node_type_filter(s, StateNode) and node_type_filter(d, UtilityNode))]\n",
    "        X2_R2_edges = [((s, ts+1), (d, td+1)) for ((s, ts), (d, td)) in X1_R1_edges]\n",
    "        self.add_edges(X2_E2_edges)\n",
    "        \n",
    "        self.time += 1\n",
    "        "
   ]
  },
  {
   "cell_type": "markdown",
   "metadata": {},
   "source": [
    "## Defining the DNN initial structure"
   ]
  },
  {
   "cell_type": "code",
   "execution_count": 5,
   "metadata": {},
   "outputs": [],
   "source": [
    "# Create nodes\n",
    "state_node0 = StateNode(\"State\", 0)\n",
    "state_node1 = StateNode(\"State\", 1)\n",
    "ev_node = EvidenceNode(\"Evidence\", 1)\n",
    "util_node = UtilityNode(\"Reward\", 1)\n",
    "action_node = ActionNode(\"Action\", 0, [0, 1])\n",
    "\n",
    "# Create the initial DDN structure\n",
    "bn = DynamicDecisionNetwork()\n",
    "bn.add_nodes([state_node0, state_node1, ev_node, util_node, action_node])\n",
    "bn.add_edges([\n",
    "    ((\"State\", 0), (\"State\", 1)), \n",
    "    ((\"Action\", 0), (\"State\", 1)), \n",
    "    ((\"State\", 1), (\"Evidence\", 1)), \n",
    "    ((\"State\", 1), (\"Reward\", 1))\n",
    "])"
   ]
  },
  {
   "cell_type": "markdown",
   "metadata": {},
   "source": [
    "## Giving the DNN its probability tables"
   ]
  },
  {
   "cell_type": "code",
   "execution_count": 6,
   "metadata": {},
   "outputs": [],
   "source": [
    "# Add data for node State 0\n",
    "data = {(\"State\", 0): [0,1], \"Prob\": [1,0]}\n",
    "bn.add_pt((\"State\", 0), data)\n",
    "\n",
    "# Add data for node State 1\n",
    "data = {\n",
    "    (\"State\", 0): [0,0,0,0,1,1,1,1], (\"Action\", 0): [0,0,1,1,0,0,1,1], (\"State\", 1): [0,1,0,1,0,1,0,1], \n",
    "    \"Prob\": [0.5,0.5,0.9,0.1,0.7,0.3,0.4,0.6]\n",
    "}\n",
    "bn.add_pt((\"State\", 1), data)\n",
    "\n",
    "# Add data for node Evidence\n",
    "data = {(\"State\", 1): [0,0,1,1], (\"Evidence\", 1): [0,1,0,1], \"Prob\": [0.8,0.2,0.2,0.8]}\n",
    "bn.add_pt((\"Evidence\", 1), data)\n",
    "\n",
    "# Add data for node Utility\n",
    "data = {(\"State\", 1): [0,0,1,1], (\"Reward\", 1): [0,1,0,1], \"Prob\": [1,0,0.1,0.9]}\n",
    "bn.add_pt((\"Reward\", 1), data)"
   ]
  },
  {
   "cell_type": "code",
   "execution_count": 7,
   "metadata": {},
   "outputs": [
    {
     "data": {
      "text/html": [
       "<div>\n",
       "<style scoped>\n",
       "    .dataframe tbody tr th:only-of-type {\n",
       "        vertical-align: middle;\n",
       "    }\n",
       "\n",
       "    .dataframe tbody tr th {\n",
       "        vertical-align: top;\n",
       "    }\n",
       "\n",
       "    .dataframe thead th {\n",
       "        text-align: right;\n",
       "    }\n",
       "</style>\n",
       "<table border=\"1\" class=\"dataframe\">\n",
       "  <thead>\n",
       "    <tr style=\"text-align: right;\">\n",
       "      <th></th>\n",
       "      <th>(Reward, 1)</th>\n",
       "      <th>Prob</th>\n",
       "    </tr>\n",
       "  </thead>\n",
       "  <tbody>\n",
       "    <tr>\n",
       "      <th>0</th>\n",
       "      <td>0</td>\n",
       "      <td>0.903</td>\n",
       "    </tr>\n",
       "    <tr>\n",
       "      <th>1</th>\n",
       "      <td>1</td>\n",
       "      <td>0.097</td>\n",
       "    </tr>\n",
       "  </tbody>\n",
       "</table>\n",
       "</div>"
      ],
      "text/plain": [
       "   (Reward, 1)   Prob\n",
       "0            0  0.903\n",
       "1            1  0.097"
      ]
     },
     "execution_count": 7,
     "metadata": {},
     "output_type": "execute_result"
    }
   ],
   "source": [
    "bn.query(query=[(\"Reward\",1)], evidence={(\"State\",0): 0, (\"Action\",0): 1})"
   ]
  },
  {
   "cell_type": "code",
   "execution_count": null,
   "metadata": {},
   "outputs": [],
   "source": [
    "bn.initialize()"
   ]
  },
  {
   "cell_type": "code",
   "execution_count": null,
   "metadata": {},
   "outputs": [],
   "source": [
    "bn.knowns"
   ]
  },
  {
   "cell_type": "code",
   "execution_count": null,
   "metadata": {},
   "outputs": [],
   "source": []
  }
 ],
 "metadata": {
  "kernelspec": {
   "display_name": "Python 3",
   "language": "python",
   "name": "python3"
  },
  "language_info": {
   "codemirror_mode": {
    "name": "ipython",
    "version": 3
   },
   "file_extension": ".py",
   "mimetype": "text/x-python",
   "name": "python",
   "nbconvert_exporter": "python",
   "pygments_lexer": "ipython3",
   "version": "3.8.3"
  }
 },
 "nbformat": 4,
 "nbformat_minor": 4
}
