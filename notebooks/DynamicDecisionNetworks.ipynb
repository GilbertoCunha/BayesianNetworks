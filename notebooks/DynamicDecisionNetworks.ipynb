{
 "cells": [
  {
   "cell_type": "code",
   "execution_count": 1,
   "id": "2e9b025b-739e-45e8-8d42-189213e5dade",
   "metadata": {},
   "outputs": [],
   "source": [
    "%config InlineBackend.figure_format = \"svg\"\n",
    "\n",
    "import sys\n",
    "sys.path.append(\"../\")\n",
    "\n",
    "from src.networks.ddn import DynamicDecisionNetwork as DDN\n",
    "from src.networks.nodes import DiscreteNode"
   ]
  },
  {
   "cell_type": "markdown",
   "id": "07d7bb80-8fc7-4949-b185-999d7fa76b50",
   "metadata": {},
   "source": [
    "# Creating a dynamic decision network"
   ]
  },
  {
   "cell_type": "markdown",
   "id": "c5ea3d48-1c89-4f0a-806d-a93de15fd56a",
   "metadata": {},
   "source": [
    "## Example: Tiger problem"
   ]
  },
  {
   "cell_type": "markdown",
   "id": "7f93789b-4842-4a17-9a97-d8450f16d3db",
   "metadata": {},
   "source": [
    "### Constructing the Dynamic Decision Network"
   ]
  },
  {
   "cell_type": "code",
   "execution_count": 2,
   "id": "f4135be6-a737-4fa7-9779-bbc60cf97de6",
   "metadata": {},
   "outputs": [
    {
     "data": {
      "image/svg+xml": "<?xml version=\"1.0\" encoding=\"utf-8\" standalone=\"no\"?>\n<!DOCTYPE svg PUBLIC \"-//W3C//DTD SVG 1.1//EN\"\n  \"http://www.w3.org/Graphics/SVG/1.1/DTD/svg11.dtd\">\n<svg xmlns:xlink=\"http://www.w3.org/1999/xlink\" width=\"349.2pt\" height=\"231.84pt\" viewBox=\"0 0 349.2 231.84\" xmlns=\"http://www.w3.org/2000/svg\" version=\"1.1\">\n <metadata>\n  <rdf:RDF xmlns:dc=\"http://purl.org/dc/elements/1.1/\" xmlns:cc=\"http://creativecommons.org/ns#\" xmlns:rdf=\"http://www.w3.org/1999/02/22-rdf-syntax-ns#\">\n   <cc:Work>\n    <dc:type rdf:resource=\"http://purl.org/dc/dcmitype/StillImage\"/>\n    <dc:date>2022-07-13T17:50:15.984909</dc:date>\n    <dc:format>image/svg+xml</dc:format>\n    <dc:creator>\n     <cc:Agent>\n      <dc:title>Matplotlib v3.5.2, https://matplotlib.org/</dc:title>\n     </cc:Agent>\n    </dc:creator>\n   </cc:Work>\n  </rdf:RDF>\n </metadata>\n <defs>\n  <style type=\"text/css\">*{stroke-linejoin: round; stroke-linecap: butt}</style>\n </defs>\n <g id=\"figure_1\">\n  <g id=\"patch_1\">\n   <path d=\"M 0 231.84 \nL 349.2 231.84 \nL 349.2 0 \nL 0 0 \nL 0 231.84 \nz\n\" style=\"fill: none\"/>\n  </g>\n  <g id=\"axes_1\">\n   <g id=\"patch_2\">\n    <path d=\"M 7.2 224.64 \nL 342 224.64 \nL 342 7.2 \nL 7.2 7.2 \nz\n\" style=\"fill: #ffffff\"/>\n   </g>\n   <g id=\"patch_3\">\n    <path d=\"M 303.931999 51.928961 \nQ 297.28552 70.99465 291.743146 86.893172 \n\" clip-path=\"url(#p44830d0f2d)\" style=\"fill: none; stroke: #000000; stroke-width: 3; stroke-linecap: round\"/>\n    <path d=\"M 295.589452 83.150723 \nL 291.743146 86.893172 \nL 291.056971 81.570657 \nL 295.589452 83.150723 \nz\n\" clip-path=\"url(#p44830d0f2d)\" style=\"stroke: #000000; stroke-width: 3; stroke-linecap: round\"/>\n   </g>\n   <g id=\"patch_4\">\n    <path d=\"M 279.246554 143.200578 \nQ 277.708687 160.846314 276.462033 175.150615 \n\" clip-path=\"url(#p44830d0f2d)\" style=\"fill: none; stroke: #000000; stroke-width: 3; stroke-linecap: round\"/>\n    <path d=\"M 279.269722 170.577116 \nL 276.462033 175.150615 \nL 274.487848 170.160365 \nL 279.269722 170.577116 \nz\n\" clip-path=\"url(#p44830d0f2d)\" style=\"stroke: #000000; stroke-width: 3; stroke-linecap: round\"/>\n   </g>\n   <g id=\"patch_5\">\n    <path d=\"M 255.906119 125.337544 \nQ 158.938081 160.845776 65.119621 195.20068 \n\" clip-path=\"url(#p44830d0f2d)\" style=\"fill: none; stroke: #000000; stroke-width: 3; stroke-linecap: round\"/>\n    <path d=\"M 70.452182 195.803825 \nL 65.119621 195.20068 \nL 68.801674 191.296518 \nL 70.452182 195.803825 \nz\n\" clip-path=\"url(#p44830d0f2d)\" style=\"stroke: #000000; stroke-width: 3; stroke-linecap: round\"/>\n   </g>\n   <g id=\"patch_6\">\n    <path d=\"M 110.734921 37.490737 \nQ 183.73493 70.993948 253.686553 103.098108 \n\" clip-path=\"url(#p44830d0f2d)\" style=\"fill: none; stroke: #000000; stroke-width: 3; stroke-linecap: round\"/>\n    <path d=\"M 250.325137 98.914702 \nL 253.686553 103.098108 \nL 248.322979 103.277197 \nL 250.325137 98.914702 \nz\n\" clip-path=\"url(#p44830d0f2d)\" style=\"stroke: #000000; stroke-width: 3; stroke-linecap: round\"/>\n   </g>\n   <g id=\"patch_7\">\n    <path d=\"M 78.562336 52.466401 \nQ 61.050684 115.918454 44.431346 176.137277 \n\" clip-path=\"url(#p44830d0f2d)\" style=\"fill: none; stroke: #000000; stroke-width: 3; stroke-linecap: round\"/>\n    <path d=\"M 48.021834 172.148744 \nL 44.431346 176.137277 \nL 43.394812 170.871767 \nL 48.021834 172.148744 \nz\n\" clip-path=\"url(#p44830d0f2d)\" style=\"stroke: #000000; stroke-width: 3; stroke-linecap: round\"/>\n   </g>\n   <g id=\"patch_8\">\n    <path d=\"M 105.644215 44.997078 \nQ 179.821404 115.920866 251.574316 184.526707 \n\" clip-path=\"url(#p44830d0f2d)\" style=\"fill: none; stroke: #000000; stroke-width: 3; stroke-linecap: round\"/>\n    <path d=\"M 249.763563 179.474858 \nL 251.574316 184.526707 \nL 246.446386 182.944201 \nL 249.763563 179.474858 \nz\n\" clip-path=\"url(#p44830d0f2d)\" style=\"stroke: #000000; stroke-width: 3; stroke-linecap: round\"/>\n   </g>\n   <g id=\"matplotlib.axis_1\">\n    <g id=\"xtick_1\"/>\n    <g id=\"xtick_2\"/>\n    <g id=\"xtick_3\"/>\n    <g id=\"xtick_4\"/>\n    <g id=\"xtick_5\"/>\n    <g id=\"xtick_6\"/>\n   </g>\n   <g id=\"matplotlib.axis_2\">\n    <g id=\"ytick_1\"/>\n    <g id=\"ytick_2\"/>\n    <g id=\"ytick_3\"/>\n    <g id=\"ytick_4\"/>\n    <g id=\"ytick_5\"/>\n    <g id=\"ytick_6\"/>\n    <g id=\"ytick_7\"/>\n    <g id=\"ytick_8\"/>\n   </g>\n   <g id=\"PathCollection_1\">\n    <defs>\n     <path id=\"md38358432f\" d=\"M 0 27.386128 \nC 7.262886 27.386128 14.229281 24.500553 19.364917 19.364917 \nC 24.500553 14.229281 27.386128 7.262886 27.386128 0 \nC 27.386128 -7.262886 24.500553 -14.229281 19.364917 -19.364917 \nC 14.229281 -24.500553 7.262886 -27.386128 0 -27.386128 \nC -7.262886 -27.386128 -14.229281 -24.500553 -19.364917 -19.364917 \nC -24.500553 -14.229281 -27.386128 -7.262886 -27.386128 0 \nC -27.386128 7.262886 -24.500553 14.229281 -19.364917 19.364917 \nC -14.229281 24.500553 -7.262886 27.386128 0 27.386128 \nz\n\" style=\"stroke: #ffa500\"/>\n    </defs>\n    <g clip-path=\"url(#p44830d0f2d)\">\n     <use xlink:href=\"#md38358432f\" x=\"312.947107\" y=\"26.06876\" style=\"fill: #ffa500; stroke: #ffa500\"/>\n     <use xlink:href=\"#md38358432f\" x=\"281.624121\" y=\"115.92\" style=\"fill: #ffa500; stroke: #ffa500\"/>\n     <use xlink:href=\"#md38358432f\" x=\"273.793374\" y=\"205.77124\" style=\"fill: #ffa500; stroke: #ffa500\"/>\n     <use xlink:href=\"#md38358432f\" x=\"36.252893\" y=\"205.77124\" style=\"fill: #ffa500; stroke: #ffa500\"/>\n     <use xlink:href=\"#md38358432f\" x=\"85.847622\" y=\"26.06876\" style=\"fill: #ffa500; stroke: #ffa500\"/>\n    </g>\n   </g>\n   <g id=\"patch_9\">\n    <path d=\"M 7.2 224.64 \nL 7.2 7.2 \n\" style=\"fill: none; stroke: #000000; stroke-width: 0.8; stroke-linejoin: miter; stroke-linecap: square\"/>\n   </g>\n   <g id=\"patch_10\">\n    <path d=\"M 342 224.64 \nL 342 7.2 \n\" style=\"fill: none; stroke: #000000; stroke-width: 0.8; stroke-linejoin: miter; stroke-linecap: square\"/>\n   </g>\n   <g id=\"patch_11\">\n    <path d=\"M 7.2 224.64 \nL 342 224.64 \n\" style=\"fill: none; stroke: #000000; stroke-width: 0.8; stroke-linejoin: miter; stroke-linecap: square\"/>\n   </g>\n   <g id=\"patch_12\">\n    <path d=\"M 7.2 7.2 \nL 342 7.2 \n\" style=\"fill: none; stroke: #000000; stroke-width: 0.8; stroke-linejoin: miter; stroke-linecap: square\"/>\n   </g>\n   <g id=\"text_1\">\n    <g clip-path=\"url(#p44830d0f2d)\">\n     <!-- ('S', 0) -->\n     <g transform=\"translate(293.526795 29.38001)scale(0.12 -0.12)\">\n      <defs>\n       <path id=\"DejaVuSans-28\" d=\"M 1984 4856 \nQ 1566 4138 1362 3434 \nQ 1159 2731 1159 2009 \nQ 1159 1288 1364 580 \nQ 1569 -128 1984 -844 \nL 1484 -844 \nQ 1016 -109 783 600 \nQ 550 1309 550 2009 \nQ 550 2706 781 3412 \nQ 1013 4119 1484 4856 \nL 1984 4856 \nz\n\" transform=\"scale(0.015625)\"/>\n       <path id=\"DejaVuSans-27\" d=\"M 1147 4666 \nL 1147 2931 \nL 616 2931 \nL 616 4666 \nL 1147 4666 \nz\n\" transform=\"scale(0.015625)\"/>\n       <path id=\"DejaVuSans-53\" d=\"M 3425 4513 \nL 3425 3897 \nQ 3066 4069 2747 4153 \nQ 2428 4238 2131 4238 \nQ 1616 4238 1336 4038 \nQ 1056 3838 1056 3469 \nQ 1056 3159 1242 3001 \nQ 1428 2844 1947 2747 \nL 2328 2669 \nQ 3034 2534 3370 2195 \nQ 3706 1856 3706 1288 \nQ 3706 609 3251 259 \nQ 2797 -91 1919 -91 \nQ 1588 -91 1214 -16 \nQ 841 59 441 206 \nL 441 856 \nQ 825 641 1194 531 \nQ 1563 422 1919 422 \nQ 2459 422 2753 634 \nQ 3047 847 3047 1241 \nQ 3047 1584 2836 1778 \nQ 2625 1972 2144 2069 \nL 1759 2144 \nQ 1053 2284 737 2584 \nQ 422 2884 422 3419 \nQ 422 4038 858 4394 \nQ 1294 4750 2059 4750 \nQ 2388 4750 2728 4690 \nQ 3069 4631 3425 4513 \nz\n\" transform=\"scale(0.015625)\"/>\n       <path id=\"DejaVuSans-2c\" d=\"M 750 794 \nL 1409 794 \nL 1409 256 \nL 897 -744 \nL 494 -744 \nL 750 256 \nL 750 794 \nz\n\" transform=\"scale(0.015625)\"/>\n       <path id=\"DejaVuSans-20\" transform=\"scale(0.015625)\"/>\n       <path id=\"DejaVuSans-30\" d=\"M 2034 4250 \nQ 1547 4250 1301 3770 \nQ 1056 3291 1056 2328 \nQ 1056 1369 1301 889 \nQ 1547 409 2034 409 \nQ 2525 409 2770 889 \nQ 3016 1369 3016 2328 \nQ 3016 3291 2770 3770 \nQ 2525 4250 2034 4250 \nz\nM 2034 4750 \nQ 2819 4750 3233 4129 \nQ 3647 3509 3647 2328 \nQ 3647 1150 3233 529 \nQ 2819 -91 2034 -91 \nQ 1250 -91 836 529 \nQ 422 1150 422 2328 \nQ 422 3509 836 4129 \nQ 1250 4750 2034 4750 \nz\n\" transform=\"scale(0.015625)\"/>\n       <path id=\"DejaVuSans-29\" d=\"M 513 4856 \nL 1013 4856 \nQ 1481 4119 1714 3412 \nQ 1947 2706 1947 2009 \nQ 1947 1309 1714 600 \nQ 1481 -109 1013 -844 \nL 513 -844 \nQ 928 -128 1133 580 \nQ 1338 1288 1338 2009 \nQ 1338 2731 1133 3434 \nQ 928 4138 513 4856 \nz\n\" transform=\"scale(0.015625)\"/>\n      </defs>\n      <use xlink:href=\"#DejaVuSans-28\"/>\n      <use xlink:href=\"#DejaVuSans-27\" x=\"39.013672\"/>\n      <use xlink:href=\"#DejaVuSans-53\" x=\"66.503906\"/>\n      <use xlink:href=\"#DejaVuSans-27\" x=\"129.980469\"/>\n      <use xlink:href=\"#DejaVuSans-2c\" x=\"157.470703\"/>\n      <use xlink:href=\"#DejaVuSans-20\" x=\"189.257812\"/>\n      <use xlink:href=\"#DejaVuSans-30\" x=\"221.044922\"/>\n      <use xlink:href=\"#DejaVuSans-29\" x=\"284.667969\"/>\n     </g>\n    </g>\n   </g>\n   <g id=\"text_2\">\n    <g clip-path=\"url(#p44830d0f2d)\">\n     <!-- ('S', 1) -->\n     <g transform=\"translate(262.203808 119.23125)scale(0.12 -0.12)\">\n      <defs>\n       <path id=\"DejaVuSans-31\" d=\"M 794 531 \nL 1825 531 \nL 1825 4091 \nL 703 3866 \nL 703 4441 \nL 1819 4666 \nL 2450 4666 \nL 2450 531 \nL 3481 531 \nL 3481 0 \nL 794 0 \nL 794 531 \nz\n\" transform=\"scale(0.015625)\"/>\n      </defs>\n      <use xlink:href=\"#DejaVuSans-28\"/>\n      <use xlink:href=\"#DejaVuSans-27\" x=\"39.013672\"/>\n      <use xlink:href=\"#DejaVuSans-53\" x=\"66.503906\"/>\n      <use xlink:href=\"#DejaVuSans-27\" x=\"129.980469\"/>\n      <use xlink:href=\"#DejaVuSans-2c\" x=\"157.470703\"/>\n      <use xlink:href=\"#DejaVuSans-20\" x=\"189.257812\"/>\n      <use xlink:href=\"#DejaVuSans-31\" x=\"221.044922\"/>\n      <use xlink:href=\"#DejaVuSans-29\" x=\"284.667969\"/>\n     </g>\n    </g>\n   </g>\n   <g id=\"text_3\">\n    <g clip-path=\"url(#p44830d0f2d)\">\n     <!-- ('O', 1) -->\n     <g transform=\"translate(253.458999 209.08249)scale(0.12 -0.12)\">\n      <defs>\n       <path id=\"DejaVuSans-4f\" d=\"M 2522 4238 \nQ 1834 4238 1429 3725 \nQ 1025 3213 1025 2328 \nQ 1025 1447 1429 934 \nQ 1834 422 2522 422 \nQ 3209 422 3611 934 \nQ 4013 1447 4013 2328 \nQ 4013 3213 3611 3725 \nQ 3209 4238 2522 4238 \nz\nM 2522 4750 \nQ 3503 4750 4090 4092 \nQ 4678 3434 4678 2328 \nQ 4678 1225 4090 567 \nQ 3503 -91 2522 -91 \nQ 1538 -91 948 565 \nQ 359 1222 359 2328 \nQ 359 3434 948 4092 \nQ 1538 4750 2522 4750 \nz\n\" transform=\"scale(0.015625)\"/>\n      </defs>\n      <use xlink:href=\"#DejaVuSans-28\"/>\n      <use xlink:href=\"#DejaVuSans-27\" x=\"39.013672\"/>\n      <use xlink:href=\"#DejaVuSans-4f\" x=\"66.503906\"/>\n      <use xlink:href=\"#DejaVuSans-27\" x=\"145.214844\"/>\n      <use xlink:href=\"#DejaVuSans-2c\" x=\"172.705078\"/>\n      <use xlink:href=\"#DejaVuSans-20\" x=\"204.492188\"/>\n      <use xlink:href=\"#DejaVuSans-31\" x=\"236.279297\"/>\n      <use xlink:href=\"#DejaVuSans-29\" x=\"299.902344\"/>\n     </g>\n    </g>\n   </g>\n   <g id=\"text_4\">\n    <g clip-path=\"url(#p44830d0f2d)\">\n     <!-- ('R', 1) -->\n     <g transform=\"translate(16.47258 209.08249)scale(0.12 -0.12)\">\n      <defs>\n       <path id=\"DejaVuSans-52\" d=\"M 2841 2188 \nQ 3044 2119 3236 1894 \nQ 3428 1669 3622 1275 \nL 4263 0 \nL 3584 0 \nL 2988 1197 \nQ 2756 1666 2539 1819 \nQ 2322 1972 1947 1972 \nL 1259 1972 \nL 1259 0 \nL 628 0 \nL 628 4666 \nL 2053 4666 \nQ 2853 4666 3247 4331 \nQ 3641 3997 3641 3322 \nQ 3641 2881 3436 2590 \nQ 3231 2300 2841 2188 \nz\nM 1259 4147 \nL 1259 2491 \nL 2053 2491 \nQ 2509 2491 2742 2702 \nQ 2975 2913 2975 3322 \nQ 2975 3731 2742 3939 \nQ 2509 4147 2053 4147 \nL 1259 4147 \nz\n\" transform=\"scale(0.015625)\"/>\n      </defs>\n      <use xlink:href=\"#DejaVuSans-28\"/>\n      <use xlink:href=\"#DejaVuSans-27\" x=\"39.013672\"/>\n      <use xlink:href=\"#DejaVuSans-52\" x=\"66.503906\"/>\n      <use xlink:href=\"#DejaVuSans-27\" x=\"135.986328\"/>\n      <use xlink:href=\"#DejaVuSans-2c\" x=\"163.476562\"/>\n      <use xlink:href=\"#DejaVuSans-20\" x=\"195.263672\"/>\n      <use xlink:href=\"#DejaVuSans-31\" x=\"227.050781\"/>\n      <use xlink:href=\"#DejaVuSans-29\" x=\"290.673828\"/>\n     </g>\n    </g>\n   </g>\n   <g id=\"text_5\">\n    <g clip-path=\"url(#p44830d0f2d)\">\n     <!-- ('A', 0) -->\n     <g transform=\"translate(66.131997 29.38001)scale(0.12 -0.12)\">\n      <defs>\n       <path id=\"DejaVuSans-41\" d=\"M 2188 4044 \nL 1331 1722 \nL 3047 1722 \nL 2188 4044 \nz\nM 1831 4666 \nL 2547 4666 \nL 4325 0 \nL 3669 0 \nL 3244 1197 \nL 1141 1197 \nL 716 0 \nL 50 0 \nL 1831 4666 \nz\n\" transform=\"scale(0.015625)\"/>\n      </defs>\n      <use xlink:href=\"#DejaVuSans-28\"/>\n      <use xlink:href=\"#DejaVuSans-27\" x=\"39.013672\"/>\n      <use xlink:href=\"#DejaVuSans-41\" x=\"66.503906\"/>\n      <use xlink:href=\"#DejaVuSans-27\" x=\"134.912109\"/>\n      <use xlink:href=\"#DejaVuSans-2c\" x=\"162.402344\"/>\n      <use xlink:href=\"#DejaVuSans-20\" x=\"194.189453\"/>\n      <use xlink:href=\"#DejaVuSans-30\" x=\"225.976562\"/>\n      <use xlink:href=\"#DejaVuSans-29\" x=\"289.599609\"/>\n     </g>\n    </g>\n   </g>\n  </g>\n </g>\n <defs>\n  <clipPath id=\"p44830d0f2d\">\n   <rect x=\"7.2\" y=\"7.2\" width=\"334.8\" height=\"217.44\"/>\n  </clipPath>\n </defs>\n</svg>\n",
      "text/plain": [
       "<Figure size 432x288 with 1 Axes>"
      ]
     },
     "metadata": {},
     "output_type": "display_data"
    }
   ],
   "source": [
    "# Create nodes\n",
    "s0 = DiscreteNode((\"S\", 0), node_type=DDN.state_type, value_space=[0, 1])\n",
    "a0 = DiscreteNode((\"A\", 0), node_type=DDN.action_type, value_space=[0, 1, 2])\n",
    "s1 = DiscreteNode((\"S\", 1), node_type=DDN.state_type, value_space=[0, 1])\n",
    "o1 = DiscreteNode((\"O\", 1), node_type=DDN.observation_type, value_space=[0, 2])\n",
    "r1 = DiscreteNode((\"R\", 1), node_type=DDN.reward_type, value_space=[-100, -1, 10])\n",
    "\n",
    "# Discount factor of the POMDP\n",
    "discount = 0.8\n",
    "\n",
    "# Create the initial DDN structure\n",
    "ddn = DDN(discount=discount)\n",
    "ddn.add_nodes([s0, s1, o1, r1, a0])\n",
    "ddn.add_edges([\n",
    "    ((\"S\", 0), (\"S\", 1)), \n",
    "    ((\"A\", 0), (\"S\", 1)), \n",
    "    ((\"A\", 0), (\"R\", 1)), \n",
    "    ((\"A\", 0), (\"O\", 1)), \n",
    "    ((\"S\", 1), (\"O\", 1)), \n",
    "    ((\"S\", 1), (\"R\", 1)) \n",
    "])\n",
    "ddn.draw()"
   ]
  },
  {
   "cell_type": "markdown",
   "id": "30c4be75-1c6b-4e9a-984b-c900a0f8e1c1",
   "metadata": {},
   "source": [
    "### Adding CPT data to the DDN"
   ]
  },
  {
   "cell_type": "code",
   "execution_count": 3,
   "id": "89560ba3-96c9-4968-a1fc-b19580859241",
   "metadata": {},
   "outputs": [],
   "source": [
    "# Add data for node State 0\n",
    "data = {\n",
    "    (\"S\", 0): [0,1], \n",
    "    \"Prob\": [0.5,0.5]\n",
    "}\n",
    "ddn.add_pt((\"S\", 0), data)\n",
    "\n",
    "# Add data for node State 1\n",
    "data = {\n",
    "    (\"S\", 0): [0,0,0,0,0,0,1,1,1,1,1,1], \n",
    "    (\"A\", 0): [0,0,1,1,2,2,0,0,1,1,2,2], \n",
    "    (\"S\", 1): [0,1,0,1,0,1,0,1,0,1,0,1], \n",
    "    \"Prob\": [1,0,0.5,0.5,0.5,0.5,0,1,0.5,0.5,0.5,0.5]\n",
    "}\n",
    "ddn.add_pt((\"S\", 1), data)\n",
    "\n",
    "# Add data for node Evidence\n",
    "data = {\n",
    "    (\"A\", 0): [0,0,0,0,1,1,1,1,2,2,2,2], \n",
    "    (\"S\", 1): [0,0,1,1,0,0,1,1,0,0,1,1], \n",
    "    (\"O\", 1): [0,1,0,1,0,1,0,1,0,1,0,1], \n",
    "    \"Prob\": [0.85,0.15,0.15,0.85,0.5,0.5,0.5,0.5,0.5,0.5,0.5,0.5]\n",
    "}\n",
    "ddn.add_pt((\"O\", 1), data)\n",
    "\n",
    "# Add data for node Reward\n",
    "data = {\n",
    "    (\"A\", 0): [0,0,0,0,0,0,1,1,1,1,1,1,2,2,2,2,2,2], \n",
    "    (\"S\", 1): [0,0,0,1,1,1,0,0,0,1,1,1,0,0,0,1,1,1], \n",
    "    (\"R\", 1): [-100,-1,10,-100,-1,10,-100,-1,10,-100,-1,10,-100,-1,10,-100,-1,10], \n",
    "    \"Prob\": [0,1,0,0,1,0,1,0,0,0,0,1,0,0,1,1,0,0]\n",
    "}\n",
    "ddn.add_pt((\"R\", 1), data)\n",
    "\n",
    "# Initialize ddn\n",
    "ddn.initialize()"
   ]
  },
  {
   "cell_type": "code",
   "execution_count": 4,
   "id": "d9d64285-b53a-43ca-91fb-f57e8457d374",
   "metadata": {},
   "outputs": [
    {
     "name": "stdout",
     "output_type": "stream",
     "text": [
      "Got query nodes.\n",
      "Queried new belief.\n",
      "Replaced column names\n",
      "Finished belief updating.\n"
     ]
    },
    {
     "data": {
      "text/plain": [
       "{('S',\n",
       "  0):    (S, 0)  Prob\n",
       " 0     0.0  0.54\n",
       " 1     1.0  0.46}"
      ]
     },
     "execution_count": 4,
     "metadata": {},
     "output_type": "execute_result"
    }
   ],
   "source": [
    "from src.utils import belief_update\n",
    "\n",
    "# Check belief-updating\n",
    "actions = {(\"A\", 0): 1}\n",
    "observations = {(\"O\", 1): 1}\n",
    "belief_update(ddn, ddn.get_belief_state(), actions, observations, n_samples=100)"
   ]
  },
  {
   "cell_type": "markdown",
   "id": "c725825d-07a1-4814-8c2c-0cc881bb6fa0",
   "metadata": {},
   "source": [
    "### Calculating best action"
   ]
  },
  {
   "cell_type": "code",
   "execution_count": 5,
   "id": "eb93958a",
   "metadata": {},
   "outputs": [],
   "source": [
    "from src.rl_algorithms.pomdp_lookahead import build_tree, lookahead_policy, q_value\n",
    "from src.trees.tree import Tree"
   ]
  },
  {
   "cell_type": "code",
   "execution_count": 6,
   "id": "50f835b5",
   "metadata": {},
   "outputs": [],
   "source": [
    "# Build the lookahead tree\n",
    "horizon = 2\n",
    "action_space = ddn.get_space(ddn.action_type)\n",
    "observation_space = ddn.get_space(ddn.observation_type)\n",
    "tree = build_tree({}, action_space, observation_space, horizon)"
   ]
  },
  {
   "cell_type": "code",
   "execution_count": 7,
   "id": "9ddb7822-329a-46ae-921d-dc18ac564864",
   "metadata": {},
   "outputs": [
    {
     "data": {
      "text/plain": [
       "'action'"
      ]
     },
     "execution_count": 7,
     "metadata": {},
     "output_type": "execute_result"
    }
   ],
   "source": [
    "tree.children[0].children[0].children[0].get_attribute(\"type\")"
   ]
  },
  {
   "cell_type": "code",
   "execution_count": 8,
   "id": "dbab88b6-e665-4dc6-86f7-884191f09af1",
   "metadata": {},
   "outputs": [
    {
     "name": "stdout",
     "output_type": "stream",
     "text": [
      "Got query nodes.\n",
      "Queried new belief.\n",
      "Replaced column names\n",
      "Finished belief updating.\n",
      "Got query nodes.\n"
     ]
    },
    {
     "ename": "KeyboardInterrupt",
     "evalue": "",
     "output_type": "error",
     "traceback": [
      "\u001b[0;31m---------------------------------------------------------------------------\u001b[0m",
      "\u001b[0;31mKeyboardInterrupt\u001b[0m                         Traceback (most recent call last)",
      "\u001b[1;32m/Users/gilbertocunha/Documents/GitHub/BayesianNetworks/notebooks/DynamicDecisionNetworks.ipynb Cell 13'\u001b[0m in \u001b[0;36m<cell line: 2>\u001b[0;34m()\u001b[0m\n\u001b[1;32m      <a href='vscode-notebook-cell:/Users/gilbertocunha/Documents/GitHub/BayesianNetworks/notebooks/DynamicDecisionNetworks.ipynb#ch0000012?line=0'>1</a>\u001b[0m n_samples \u001b[39m=\u001b[39m \u001b[39m100\u001b[39m\n\u001b[0;32m----> <a href='vscode-notebook-cell:/Users/gilbertocunha/Documents/GitHub/BayesianNetworks/notebooks/DynamicDecisionNetworks.ipynb#ch0000012?line=1'>2</a>\u001b[0m value \u001b[39m=\u001b[39m q_value(ddn, tree\u001b[39m.\u001b[39;49mchildren[\u001b[39m0\u001b[39;49m], ddn\u001b[39m.\u001b[39;49mget_belief_state(), n_samples)\n\u001b[1;32m      <a href='vscode-notebook-cell:/Users/gilbertocunha/Documents/GitHub/BayesianNetworks/notebooks/DynamicDecisionNetworks.ipynb#ch0000012?line=2'>3</a>\u001b[0m \u001b[39mprint\u001b[39m(value)\n",
      "File \u001b[0;32m~/Documents/GitHub/BayesianNetworks/notebooks/../src/rl_algorithms/pomdp_lookahead.py:65\u001b[0m, in \u001b[0;36mq_value\u001b[0;34m(ddn, tree, belief_state, n_samples)\u001b[0m\n\u001b[1;32m     61\u001b[0m prob \u001b[39m=\u001b[39m \u001b[39mfloat\u001b[39m(prob[\u001b[39m\"\u001b[39m\u001b[39mProb\u001b[39m\u001b[39m\"\u001b[39m]) \u001b[39mif\u001b[39;00m \u001b[39mlen\u001b[39m(prob) \u001b[39m>\u001b[39m \u001b[39m0\u001b[39m \u001b[39melse\u001b[39;00m \u001b[39m0.0\u001b[39m\n\u001b[1;32m     62\u001b[0m \u001b[39m# print(\"Calculated prob\")\u001b[39;00m\n\u001b[1;32m     63\u001b[0m \n\u001b[1;32m     64\u001b[0m \u001b[39m# Recursive q-value calculation\u001b[39;00m\n\u001b[0;32m---> 65\u001b[0m new_belief \u001b[39m=\u001b[39m belief_update(ddn, belief_state, action, observation, n_samples)\n\u001b[1;32m     66\u001b[0m value \u001b[39m=\u001b[39m \u001b[39mmax\u001b[39m([q_value(ddn, c, new_belief, n_samples) \u001b[39mfor\u001b[39;00m c \u001b[39min\u001b[39;00m child\u001b[39m.\u001b[39mget_children()])\n\u001b[1;32m     67\u001b[0m \u001b[39m# print(\"Calculated recursive value.\")\u001b[39;00m\n\u001b[1;32m     68\u001b[0m \n\u001b[1;32m     69\u001b[0m \u001b[39m# Increase q-value\u001b[39;00m\n",
      "File \u001b[0;32m~/Documents/GitHub/BayesianNetworks/notebooks/../src/utils.py:33\u001b[0m, in \u001b[0;36mbelief_update\u001b[0;34m(ddn, belief_state, actions, observations, n_samples)\u001b[0m\n\u001b[1;32m     31\u001b[0m \u001b[39m# Query the next belief-state\u001b[39;00m\n\u001b[1;32m     32\u001b[0m evidence \u001b[39m=\u001b[39m {\u001b[39m*\u001b[39m\u001b[39m*\u001b[39mbelief_state, \u001b[39m*\u001b[39m\u001b[39m*\u001b[39mactions, \u001b[39m*\u001b[39m\u001b[39m*\u001b[39mobservations}\n\u001b[0;32m---> 33\u001b[0m next_belief \u001b[39m=\u001b[39m ddn\u001b[39m.\u001b[39;49mquery(query, evidence, n_samples)\n\u001b[1;32m     34\u001b[0m \u001b[39mprint\u001b[39m(\u001b[39m\"\u001b[39m\u001b[39mQueried new belief.\u001b[39m\u001b[39m\"\u001b[39m)\n\u001b[1;32m     36\u001b[0m \u001b[39m# TODO: Check if there is a better way to do this\u001b[39;00m\n\u001b[1;32m     37\u001b[0m \u001b[39m# Reduce column time\u001b[39;00m\n",
      "File \u001b[0;32m~/Documents/GitHub/BayesianNetworks/notebooks/../src/networks/bn.py:182\u001b[0m, in \u001b[0;36mBayesianNetwork.query\u001b[0;34m(self, query, evidence, n_samples)\u001b[0m\n\u001b[1;32m    178\u001b[0m num_samples \u001b[39m=\u001b[39m \u001b[39m0\u001b[39m\n\u001b[1;32m    179\u001b[0m \u001b[39mwhile\u001b[39;00m (num_samples \u001b[39m<\u001b[39m n_samples):\n\u001b[1;32m    180\u001b[0m \n\u001b[1;32m    181\u001b[0m     \u001b[39m# Extract sample from the Bayesian Network\u001b[39;00m\n\u001b[0;32m--> 182\u001b[0m     sample \u001b[39m=\u001b[39m \u001b[39mself\u001b[39;49m\u001b[39m.\u001b[39;49mget_sample()\n\u001b[1;32m    184\u001b[0m     \u001b[39m# Store sample if it matches with evidence\u001b[39;00m\n\u001b[1;32m    185\u001b[0m     matches \u001b[39m=\u001b[39m [sample[name] \u001b[39m==\u001b[39m evidence[name] \u001b[39mfor\u001b[39;00m name \u001b[39min\u001b[39;00m evidence]\n",
      "File \u001b[0;32m~/Documents/GitHub/BayesianNetworks/notebooks/../src/networks/bn.py:143\u001b[0m, in \u001b[0;36mBayesianNetwork.get_sample\u001b[0;34m(self)\u001b[0m\n\u001b[1;32m    141\u001b[0m \u001b[39m# Sample a result from each node\u001b[39;00m\n\u001b[1;32m    142\u001b[0m \u001b[39mfor\u001b[39;00m node \u001b[39min\u001b[39;00m \u001b[39mself\u001b[39m\u001b[39m.\u001b[39mnode_queue:\n\u001b[0;32m--> 143\u001b[0m     sample[node] \u001b[39m=\u001b[39m \u001b[39mself\u001b[39;49m\u001b[39m.\u001b[39;49mnode_dict[node]\u001b[39m.\u001b[39;49mget_sample(sample)\n\u001b[1;32m    145\u001b[0m \u001b[39mreturn\u001b[39;00m sample\n",
      "File \u001b[0;32m~/Documents/GitHub/BayesianNetworks/notebooks/../src/networks/nodes.py:85\u001b[0m, in \u001b[0;36mDiscreteNode.get_sample\u001b[0;34m(self, sample)\u001b[0m\n\u001b[1;32m     83\u001b[0m sample \u001b[39m=\u001b[39m {k: v \u001b[39mfor\u001b[39;00m k, v \u001b[39min\u001b[39;00m sample\u001b[39m.\u001b[39mitems() \u001b[39mif\u001b[39;00m (k \u001b[39min\u001b[39;00m df) \u001b[39mand\u001b[39;00m (k \u001b[39m!=\u001b[39m \u001b[39mself\u001b[39m\u001b[39m.\u001b[39mget_id())}\n\u001b[1;32m     84\u001b[0m \u001b[39mfor\u001b[39;00m name \u001b[39min\u001b[39;00m sample:\n\u001b[0;32m---> 85\u001b[0m     df \u001b[39m=\u001b[39m df\u001b[39m.\u001b[39;49mloc[df[name] \u001b[39m==\u001b[39;49m sample[name]]\n\u001b[1;32m     87\u001b[0m \u001b[39m# Generate random [0, 1] real number.\u001b[39;00m\n\u001b[1;32m     88\u001b[0m \u001b[39m# Use that real number to determine the sample to extract\u001b[39;00m\n\u001b[1;32m     89\u001b[0m \u001b[39m# by accumulating the probabilities of each row of the filtered df.\u001b[39;00m\n\u001b[1;32m     90\u001b[0m r, cum_prob \u001b[39m=\u001b[39m \u001b[39m0\u001b[39m, \u001b[39m0\u001b[39m\n",
      "File \u001b[0;32m~/opt/anaconda3/envs/Thesis/lib/python3.10/site-packages/pandas/core/indexing.py:967\u001b[0m, in \u001b[0;36m_LocationIndexer.__getitem__\u001b[0;34m(self, key)\u001b[0m\n\u001b[1;32m    964\u001b[0m axis \u001b[39m=\u001b[39m \u001b[39mself\u001b[39m\u001b[39m.\u001b[39maxis \u001b[39mor\u001b[39;00m \u001b[39m0\u001b[39m\n\u001b[1;32m    966\u001b[0m maybe_callable \u001b[39m=\u001b[39m com\u001b[39m.\u001b[39mapply_if_callable(key, \u001b[39mself\u001b[39m\u001b[39m.\u001b[39mobj)\n\u001b[0;32m--> 967\u001b[0m \u001b[39mreturn\u001b[39;00m \u001b[39mself\u001b[39;49m\u001b[39m.\u001b[39;49m_getitem_axis(maybe_callable, axis\u001b[39m=\u001b[39;49maxis)\n",
      "File \u001b[0;32m~/opt/anaconda3/envs/Thesis/lib/python3.10/site-packages/pandas/core/indexing.py:1182\u001b[0m, in \u001b[0;36m_LocIndexer._getitem_axis\u001b[0;34m(self, key, axis)\u001b[0m\n\u001b[1;32m   1180\u001b[0m     \u001b[39mreturn\u001b[39;00m \u001b[39mself\u001b[39m\u001b[39m.\u001b[39m_get_slice_axis(key, axis\u001b[39m=\u001b[39maxis)\n\u001b[1;32m   1181\u001b[0m \u001b[39melif\u001b[39;00m com\u001b[39m.\u001b[39mis_bool_indexer(key):\n\u001b[0;32m-> 1182\u001b[0m     \u001b[39mreturn\u001b[39;00m \u001b[39mself\u001b[39;49m\u001b[39m.\u001b[39;49m_getbool_axis(key, axis\u001b[39m=\u001b[39;49maxis)\n\u001b[1;32m   1183\u001b[0m \u001b[39melif\u001b[39;00m is_list_like_indexer(key):\n\u001b[1;32m   1184\u001b[0m \n\u001b[1;32m   1185\u001b[0m     \u001b[39m# an iterable multi-selection\u001b[39;00m\n\u001b[1;32m   1186\u001b[0m     \u001b[39mif\u001b[39;00m \u001b[39mnot\u001b[39;00m (\u001b[39misinstance\u001b[39m(key, \u001b[39mtuple\u001b[39m) \u001b[39mand\u001b[39;00m \u001b[39misinstance\u001b[39m(labels, MultiIndex)):\n",
      "File \u001b[0;32m~/opt/anaconda3/envs/Thesis/lib/python3.10/site-packages/pandas/core/indexing.py:986\u001b[0m, in \u001b[0;36m_LocationIndexer._getbool_axis\u001b[0;34m(self, key, axis)\u001b[0m\n\u001b[1;32m    984\u001b[0m key \u001b[39m=\u001b[39m check_bool_indexer(labels, key)\n\u001b[1;32m    985\u001b[0m inds \u001b[39m=\u001b[39m key\u001b[39m.\u001b[39mnonzero()[\u001b[39m0\u001b[39m]\n\u001b[0;32m--> 986\u001b[0m \u001b[39mreturn\u001b[39;00m \u001b[39mself\u001b[39;49m\u001b[39m.\u001b[39;49mobj\u001b[39m.\u001b[39;49m_take_with_is_copy(inds, axis\u001b[39m=\u001b[39;49maxis)\n",
      "File \u001b[0;32m~/opt/anaconda3/envs/Thesis/lib/python3.10/site-packages/pandas/core/generic.py:3716\u001b[0m, in \u001b[0;36mNDFrame._take_with_is_copy\u001b[0;34m(self, indices, axis)\u001b[0m\n\u001b[1;32m   3708\u001b[0m \u001b[39mdef\u001b[39;00m \u001b[39m_take_with_is_copy\u001b[39m(\u001b[39mself\u001b[39m: NDFrameT, indices, axis\u001b[39m=\u001b[39m\u001b[39m0\u001b[39m) \u001b[39m-\u001b[39m\u001b[39m>\u001b[39m NDFrameT:\n\u001b[1;32m   3709\u001b[0m     \u001b[39m\"\"\"\u001b[39;00m\n\u001b[1;32m   3710\u001b[0m \u001b[39m    Internal version of the `take` method that sets the `_is_copy`\u001b[39;00m\n\u001b[1;32m   3711\u001b[0m \u001b[39m    attribute to keep track of the parent dataframe (using in indexing\u001b[39;00m\n\u001b[0;32m   (...)\u001b[0m\n\u001b[1;32m   3714\u001b[0m \u001b[39m    See the docstring of `take` for full explanation of the parameters.\u001b[39;00m\n\u001b[1;32m   3715\u001b[0m \u001b[39m    \"\"\"\u001b[39;00m\n\u001b[0;32m-> 3716\u001b[0m     result \u001b[39m=\u001b[39m \u001b[39mself\u001b[39;49m\u001b[39m.\u001b[39;49mtake(indices\u001b[39m=\u001b[39;49mindices, axis\u001b[39m=\u001b[39;49maxis)\n\u001b[1;32m   3717\u001b[0m     \u001b[39m# Maybe set copy if we didn't actually change the index.\u001b[39;00m\n\u001b[1;32m   3718\u001b[0m     \u001b[39mif\u001b[39;00m \u001b[39mnot\u001b[39;00m result\u001b[39m.\u001b[39m_get_axis(axis)\u001b[39m.\u001b[39mequals(\u001b[39mself\u001b[39m\u001b[39m.\u001b[39m_get_axis(axis)):\n",
      "File \u001b[0;32m~/opt/anaconda3/envs/Thesis/lib/python3.10/site-packages/pandas/core/generic.py:3703\u001b[0m, in \u001b[0;36mNDFrame.take\u001b[0;34m(self, indices, axis, is_copy, **kwargs)\u001b[0m\n\u001b[1;32m   3699\u001b[0m nv\u001b[39m.\u001b[39mvalidate_take((), kwargs)\n\u001b[1;32m   3701\u001b[0m \u001b[39mself\u001b[39m\u001b[39m.\u001b[39m_consolidate_inplace()\n\u001b[0;32m-> 3703\u001b[0m new_data \u001b[39m=\u001b[39m \u001b[39mself\u001b[39;49m\u001b[39m.\u001b[39;49m_mgr\u001b[39m.\u001b[39;49mtake(\n\u001b[1;32m   3704\u001b[0m     indices, axis\u001b[39m=\u001b[39;49m\u001b[39mself\u001b[39;49m\u001b[39m.\u001b[39;49m_get_block_manager_axis(axis), verify\u001b[39m=\u001b[39;49m\u001b[39mTrue\u001b[39;49;00m\n\u001b[1;32m   3705\u001b[0m )\n\u001b[1;32m   3706\u001b[0m \u001b[39mreturn\u001b[39;00m \u001b[39mself\u001b[39m\u001b[39m.\u001b[39m_constructor(new_data)\u001b[39m.\u001b[39m__finalize__(\u001b[39mself\u001b[39m, method\u001b[39m=\u001b[39m\u001b[39m\"\u001b[39m\u001b[39mtake\u001b[39m\u001b[39m\"\u001b[39m)\n",
      "File \u001b[0;32m~/opt/anaconda3/envs/Thesis/lib/python3.10/site-packages/pandas/core/internals/managers.py:899\u001b[0m, in \u001b[0;36mBaseBlockManager.take\u001b[0;34m(self, indexer, axis, verify)\u001b[0m\n\u001b[1;32m    896\u001b[0m n \u001b[39m=\u001b[39m \u001b[39mself\u001b[39m\u001b[39m.\u001b[39mshape[axis]\n\u001b[1;32m    897\u001b[0m indexer \u001b[39m=\u001b[39m maybe_convert_indices(indexer, n, verify\u001b[39m=\u001b[39mverify)\n\u001b[0;32m--> 899\u001b[0m new_labels \u001b[39m=\u001b[39m \u001b[39mself\u001b[39;49m\u001b[39m.\u001b[39;49maxes[axis]\u001b[39m.\u001b[39;49mtake(indexer)\n\u001b[1;32m    900\u001b[0m \u001b[39mreturn\u001b[39;00m \u001b[39mself\u001b[39m\u001b[39m.\u001b[39mreindex_indexer(\n\u001b[1;32m    901\u001b[0m     new_axis\u001b[39m=\u001b[39mnew_labels,\n\u001b[1;32m    902\u001b[0m     indexer\u001b[39m=\u001b[39mindexer,\n\u001b[0;32m   (...)\u001b[0m\n\u001b[1;32m    905\u001b[0m     consolidate\u001b[39m=\u001b[39m\u001b[39mFalse\u001b[39;00m,\n\u001b[1;32m    906\u001b[0m )\n",
      "File \u001b[0;32m~/opt/anaconda3/envs/Thesis/lib/python3.10/site-packages/pandas/core/indexes/base.py:1098\u001b[0m, in \u001b[0;36mIndex.take\u001b[0;34m(self, indices, axis, allow_fill, fill_value, **kwargs)\u001b[0m\n\u001b[1;32m   1066\u001b[0m     \u001b[39mreturn\u001b[39;00m Index(new_values, name\u001b[39m=\u001b[39m\u001b[39mself\u001b[39m\u001b[39m.\u001b[39mname, dtype\u001b[39m=\u001b[39mnew_values\u001b[39m.\u001b[39mdtype, copy\u001b[39m=\u001b[39m\u001b[39mFalse\u001b[39;00m)\n\u001b[1;32m   1068\u001b[0m _index_shared_docs[\n\u001b[1;32m   1069\u001b[0m     \u001b[39m\"\u001b[39m\u001b[39mtake\u001b[39m\u001b[39m\"\u001b[39m\n\u001b[1;32m   1070\u001b[0m ] \u001b[39m=\u001b[39m \u001b[39m\"\"\"\u001b[39m\n\u001b[0;32m   (...)\u001b[0m\n\u001b[1;32m   1095\u001b[0m \u001b[39m        elements of a at the given indices.\u001b[39m\n\u001b[1;32m   1096\u001b[0m \u001b[39m    \u001b[39m\u001b[39m\"\"\"\u001b[39m\n\u001b[0;32m-> 1098\u001b[0m \u001b[39m@Appender\u001b[39m(_index_shared_docs[\u001b[39m\"\u001b[39m\u001b[39mtake\u001b[39m\u001b[39m\"\u001b[39m] \u001b[39m%\u001b[39m _index_doc_kwargs)\n\u001b[1;32m   1099\u001b[0m \u001b[39mdef\u001b[39;00m \u001b[39mtake\u001b[39m(\n\u001b[1;32m   1100\u001b[0m     \u001b[39mself\u001b[39m, indices, axis: \u001b[39mint\u001b[39m \u001b[39m=\u001b[39m \u001b[39m0\u001b[39m, allow_fill: \u001b[39mbool\u001b[39m \u001b[39m=\u001b[39m \u001b[39mTrue\u001b[39;00m, fill_value\u001b[39m=\u001b[39m\u001b[39mNone\u001b[39;00m, \u001b[39m*\u001b[39m\u001b[39m*\u001b[39mkwargs\n\u001b[1;32m   1101\u001b[0m ):\n\u001b[1;32m   1102\u001b[0m     \u001b[39mif\u001b[39;00m kwargs:\n\u001b[1;32m   1103\u001b[0m         nv\u001b[39m.\u001b[39mvalidate_take((), kwargs)\n",
      "\u001b[0;31mKeyboardInterrupt\u001b[0m: "
     ]
    }
   ],
   "source": [
    "n_samples = 100\n",
    "value = q_value(ddn, tree.children[0], ddn.get_belief_state(), n_samples)\n",
    "print(value)"
   ]
  },
  {
   "cell_type": "code",
   "execution_count": null,
   "id": "ec30f8e1-e5a3-4569-817c-111cd2009fe8",
   "metadata": {},
   "outputs": [],
   "source": []
  }
 ],
 "metadata": {
  "kernelspec": {
   "display_name": "Python 3 (ipykernel)",
   "language": "python",
   "name": "python3"
  },
  "language_info": {
   "codemirror_mode": {
    "name": "ipython",
    "version": 3
   },
   "file_extension": ".py",
   "mimetype": "text/x-python",
   "name": "python",
   "nbconvert_exporter": "python",
   "pygments_lexer": "ipython3",
   "version": "3.10.5"
  },
  "vscode": {
   "interpreter": {
    "hash": "50c1577026dbf5384446f55c4cd3c69deffafcb0c30b87db3f18132a40cdf908"
   }
  }
 },
 "nbformat": 4,
 "nbformat_minor": 5
}
