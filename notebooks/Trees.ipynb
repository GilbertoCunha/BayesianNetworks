{
 "cells": [
  {
   "cell_type": "code",
   "execution_count": 1,
   "id": "b1115e6e",
   "metadata": {},
   "outputs": [],
   "source": [
    "from src.trees.tree import Tree"
   ]
  },
  {
   "cell_type": "markdown",
   "id": "fd4d6936",
   "metadata": {},
   "source": [
    "## Instantiating the lookahead tree"
   ]
  },
  {
   "cell_type": "code",
   "execution_count": 2,
   "id": "e172cd92",
   "metadata": {},
   "outputs": [],
   "source": [
    "# Define tree parameters\n",
    "horizon = 1\n",
    "discount = 0.8\n",
    "action_space = [0, 1]\n",
    "observation_space = [0, 1]"
   ]
  },
  {
   "cell_type": "code",
   "execution_count": 4,
   "id": "7ef4f2ef",
   "metadata": {},
   "outputs": [
    {
     "name": "stdout",
     "output_type": "stream",
     "text": [
      "<src.trees.tree.Tree object at 0x10739a890>\n"
     ]
    }
   ],
   "source": [
    "# Build the tree\n",
    "tree = Tree(None)\n",
    "print(tree)"
   ]
  },
  {
   "cell_type": "code",
   "execution_count": null,
   "id": "bacb1115",
   "metadata": {},
   "outputs": [],
   "source": []
  }
 ],
 "metadata": {
  "kernelspec": {
   "display_name": "Python 3 (ipykernel)",
   "language": "python",
   "name": "python3"
  },
  "language_info": {
   "codemirror_mode": {
    "name": "ipython",
    "version": 3
   },
   "file_extension": ".py",
   "mimetype": "text/x-python",
   "name": "python",
   "nbconvert_exporter": "python",
   "pygments_lexer": "ipython3",
   "version": "3.10.5"
  },
  "vscode": {
   "interpreter": {
    "hash": "50c1577026dbf5384446f55c4cd3c69deffafcb0c30b87db3f18132a40cdf908"
   }
  }
 },
 "nbformat": 4,
 "nbformat_minor": 5
}
