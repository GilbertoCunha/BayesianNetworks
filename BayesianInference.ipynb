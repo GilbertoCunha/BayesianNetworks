{
 "cells": [
  {
   "cell_type": "code",
   "execution_count": null,
   "metadata": {},
   "outputs": [],
   "source": [
    "%config InlineBackend.figure_format = \"svg\"\n",
    "\n",
    "from qbn import QuantumBayesianNetwork\n",
    "from bn import BayesianNetwork\n",
    "import pandas as pd"
   ]
  },
  {
   "cell_type": "markdown",
   "metadata": {},
   "source": [
    "# Bayesian Network Class"
   ]
  },
  {
   "cell_type": "markdown",
   "metadata": {},
   "source": [
    "## Create Bayesian Network Structure"
   ]
  },
  {
   "cell_type": "markdown",
   "metadata": {},
   "source": [
    "Using the Bayesian Network class defined in the `bn.py` file, we can construct a BN by giving it the nodes and the edges between those nodes as follows:"
   ]
  },
  {
   "cell_type": "code",
   "execution_count": null,
   "metadata": {},
   "outputs": [],
   "source": [
    "# Create the Bayesian Network\n",
    "bn = BayesianNetwork()\n",
    "bn.add_nodes([\"Cloudy\", \"Sprinkler\", \"Rain\", \"WetGrass\"])\n",
    "bn.add_edges([(\"Cloudy\", \"Sprinkler\"), (\"Cloudy\", \"Rain\"), (\"Sprinkler\", \"WetGrass\"), (\"Rain\", \"WetGrass\")])\n",
    "bn.draw()"
   ]
  },
  {
   "cell_type": "markdown",
   "metadata": {},
   "source": [
    "## Populate Bayesian Network with data"
   ]
  },
  {
   "cell_type": "markdown",
   "metadata": {},
   "source": [
    "However, the above code only gives the Bayesian Network its structure! We also need to feed it the Conditional Probability Tables for each node. This can be done by creating a dictionary that represents each CPT and converting it to a `pandas DataFrame` for implementation purposes:"
   ]
  },
  {
   "cell_type": "code",
   "execution_count": null,
   "metadata": {},
   "outputs": [],
   "source": [
    "# Add data for node cloudy\n",
    "data = {\"Cloudy\": [0,1], \"Prob\": [0.5,0.5]}\n",
    "bn.add_node_pt(\"Cloudy\", pd.DataFrame(data))\n",
    "\n",
    "# Add data for node Sprinkler\n",
    "data = {\"Cloudy\": [0,0,1,1], \"Sprinkler\": [0,1,0,1], \"Prob\": [0.5,0.5,0.9,0.1]}\n",
    "bn.add_node_pt(\"Sprinkler\", pd.DataFrame(data))\n",
    "\n",
    "# Add data for node Cloudy\n",
    "data = {\"Cloudy\": [0,0,1,1], \"Rain\": [0,1,0,1], \"Prob\": [0.8,0.2,0.2,0.8]}\n",
    "bn.add_node_pt(\"Rain\", pd.DataFrame(data))\n",
    "\n",
    "# Add data for node WetGrass\n",
    "data = {\"Sprinkler\": [0,0,0,0,1,1,1,1], \"Rain\": [0,0,1,1,0,0,1,1], \"WetGrass\": [0,1,0,1,0,1,0,1], \"Prob\": [1,0,0.1,0.9,0.1,0.9,0.01,0.99]}\n",
    "bn.add_node_pt(\"WetGrass\", pd.DataFrame(data))"
   ]
  },
  {
   "cell_type": "markdown",
   "metadata": {},
   "source": [
    "## Apply sampling and get results"
   ]
  },
  {
   "cell_type": "markdown",
   "metadata": {},
   "source": [
    "Finally, since we already fully defined the BN, we can start querying it for any distribution we like! The line bellow represents one possible query and uses the `rejection sampling` algorithm to perform inference on the BN:"
   ]
  },
  {
   "cell_type": "code",
   "execution_count": null,
   "metadata": {},
   "outputs": [],
   "source": [
    "bn.query(query=[\"Cloudy\", \"Rain\", \"Sprinkler\", \"WetGrass\"], n_samples=1000)"
   ]
  },
  {
   "cell_type": "code",
   "execution_count": null,
   "metadata": {},
   "outputs": [],
   "source": [
    "# Query the Bayesian Network\n",
    "bn.query(query=[\"Cloudy\", \"WetGrass\"], evidence={\"Rain\": 1, \"Sprinkler\": 0}, n_samples=1000)"
   ]
  },
  {
   "cell_type": "markdown",
   "metadata": {},
   "source": [
    "## Quantum Bayesian Networks"
   ]
  },
  {
   "cell_type": "markdown",
   "metadata": {},
   "source": [
    "This first section's purpose is to represent the full joint distribution of the above bayesian network in a quantum circuit, so that we can get samples from the joint distribution just by performing measurements in the circuit."
   ]
  },
  {
   "cell_type": "markdown",
   "metadata": {},
   "source": [
    "A joint distribution in a BN with random variables $\\mathcal{X} = \\{X_1, \\dots, X_n\\}$ taking values $x_1, \\dots, x_n$ can be mathematically described by the following equation:"
   ]
  },
  {
   "cell_type": "markdown",
   "metadata": {},
   "source": [
    "$$ \\mathbb{P} \\left[ x_1, \\dots, x_n \\right] = \\prod_{i=1}^{n} \\mathbb{P} \\left[ x_i \\vert \\text{parents}(x_i) \\right] $$"
   ]
  },
  {
   "cell_type": "markdown",
   "metadata": {},
   "source": [
    "By translating this equation to the example above, we get:\n",
    "\n",
    "$$ \\mathbb{P} \\left[ c, r, s, w \\right] = \\mathbb{P} \\left[ c \\right] \\mathbb{P} \\left[ r \\vert c \\right] \\mathbb{P} \\left[ s \\vert c \\right] \\mathbb{P} \\left[ w \\vert r, s \\right] $$"
   ]
  },
  {
   "cell_type": "markdown",
   "metadata": {},
   "source": [
    "In a general case, translating a BN into a quantum circuit involves applying a controlled rotation gate $\\hat{U}_i$ on the target qubit of the random variable $X_i$, controlled by the qubits of the random variables that are parents of the target qubit, $\\text{parents}(X_i)$, for each combination of values the parents random variables can take. This ensures we encode every entry of the CPTs in the BN into the quantum circuit."
   ]
  },
  {
   "cell_type": "markdown",
   "metadata": {},
   "source": [
    "Let's consider an example. For the WetGrass node in the BN above, we will need to apply 4 of these rotation gates, since this node has two parents and each of them can take two possible values. \n",
    "\n",
    "Say we want to encode a controlled rotation for WetGrass $w$ when $s = 1$ and $r = 0$. To do so, we want to apply that rotation when $\\vert s \\rangle = \\vert 1 \\rangle$ and $\\vert r \\rangle = \\vert 0 \\rangle$."
   ]
  },
  {
   "cell_type": "markdown",
   "metadata": {},
   "source": [
    "This gate should perform a controlled $RY(\\theta_i)$ rotation about the y-axis. Suppose $P_i = \\{P_{i1}, \\dots, P_{im}\\}$ are the parent random variables of the random variable $X_i$ and that we are considering a rotation where they take the values $p_{i1}, \\dots, p_{im}$. The angle $\\theta_i$ is given by the expression:\n",
    "\n",
    "$$ \\theta_i = 2 \\arctan \\left( \\sqrt{ \\frac{ \\mathbb{P} \\left[ X_i = 1 \\vert P_{i1} = p_{i1}, \\dots, P_{im} = p_{im} \\right] }{ \\mathbb{P} \\left[ X_i = 0 \\vert P_{i1} = p_{i1}, \\dots, P_{im} = p_{im} \\right] } } \\right) $$"
   ]
  },
  {
   "cell_type": "markdown",
   "metadata": {},
   "source": [
    "This is all implemented in the `qbn.py` file. The way the Quantum Bayesian Network class is defined requires it to be initiallized with our classical Bayesian Network class, which we should pass as an argument to the class."
   ]
  },
  {
   "cell_type": "code",
   "execution_count": null,
   "metadata": {},
   "outputs": [],
   "source": [
    "# Create the Quantum Bayesian Network\n",
    "qbn = QuantumBayesianNetwork(bn)"
   ]
  },
  {
   "cell_type": "markdown",
   "metadata": {},
   "source": [
    "Now we can finally perform inference on the QBN by simply calling its `query` method."
   ]
  },
  {
   "cell_type": "markdown",
   "metadata": {},
   "source": [
    "Let's start by getting the joint distribution."
   ]
  },
  {
   "cell_type": "code",
   "execution_count": null,
   "metadata": {},
   "outputs": [],
   "source": [
    "qbn.query(query=[\"Cloudy\", \"Rain\", \"Sprinkler\", \"WetGrass\"], n_samples=1000)"
   ]
  },
  {
   "cell_type": "markdown",
   "metadata": {},
   "source": [
    "And as we can see, it is very similar to the one obtained above. \n",
    "\n",
    "Similarly, let's ask for a conditional distribution and compare with the classical example to verify that they are also identical."
   ]
  },
  {
   "cell_type": "code",
   "execution_count": null,
   "metadata": {},
   "outputs": [],
   "source": [
    "qbn.query(query=[\"Cloudy\", \"WetGrass\"], evidence={\"Rain\": 1, \"Sprinkler\": 0}, n_samples=1000)"
   ]
  },
  {
   "cell_type": "code",
   "execution_count": null,
   "metadata": {},
   "outputs": [],
   "source": []
  }
 ],
 "metadata": {
  "kernelspec": {
   "display_name": "Python 3",
   "language": "python",
   "name": "python3"
  },
  "language_info": {
   "codemirror_mode": {
    "name": "ipython",
    "version": 3
   },
   "file_extension": ".py",
   "mimetype": "text/x-python",
   "name": "python",
   "nbconvert_exporter": "python",
   "pygments_lexer": "ipython3",
   "version": "3.8.3"
  }
 },
 "nbformat": 4,
 "nbformat_minor": 4
}
